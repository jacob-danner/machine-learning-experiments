{
 "cells": [
  {
   "cell_type": "markdown",
   "metadata": {},
   "source": [
    "# Table of Contents\n",
    "\n",
    "- Setup \n",
    "    - Dataset and DataLoader\n",
    "    - Training loop\n",
    "    - Model architecture\n",
    "- Model Training\n",
    "- Model Testing\n",
    "- General CNN Notes"
   ]
  },
  {
   "cell_type": "markdown",
   "metadata": {},
   "source": [
    "## Setup"
   ]
  },
  {
   "cell_type": "code",
   "execution_count": 1,
   "metadata": {},
   "outputs": [],
   "source": [
    "import torch\n",
    "from torch import tensor, Tensor\n",
    "import torch.nn as nn\n",
    "from torchvision import datasets, transforms\n",
    "from torch.utils.data import Dataset, DataLoader\n",
    "\n",
    "import pandas as pd\n",
    "import matplotlib.pyplot as plt"
   ]
  },
  {
   "cell_type": "code",
   "execution_count": 2,
   "metadata": {},
   "outputs": [
    {
     "name": "stdout",
     "output_type": "stream",
     "text": [
      "device.type = 'cpu'\n"
     ]
    }
   ],
   "source": [
    "device = torch.device('cuda') if torch.cuda.is_available() else torch.device('cpu')\n",
    "print(f'{device.type = }')"
   ]
  },
  {
   "cell_type": "markdown",
   "metadata": {},
   "source": [
    "### Dataset and DataLoader"
   ]
  },
  {
   "cell_type": "code",
   "execution_count": 3,
   "metadata": {},
   "outputs": [
    {
     "name": "stdout",
     "output_type": "stream",
     "text": [
      "Files already downloaded and verified\n"
     ]
    }
   ],
   "source": [
    "transform = transforms.Compose([\n",
    "    transforms.ToTensor(),\n",
    "])\n",
    "\n",
    "cifar = datasets.CIFAR10('./data', train=True, download=True, transform=transform)"
   ]
  },
  {
   "cell_type": "code",
   "execution_count": 4,
   "metadata": {},
   "outputs": [
    {
     "data": {
      "image/png": "[encoded data removed]",
      "text/plain": [
       "<PIL.Image.Image image mode=RGB size=128x128>"
      ]
     },
     "metadata": {},
     "output_type": "display_data"
    },
    {
     "name": "stdout",
     "output_type": "stream",
     "text": [
      "ex_label_idx = 6, idx_to_label[ex_label_idx] = 'frog' \n",
      "\n",
      "ex_img.shape = torch.Size([3, 32, 32])\n",
      "ex_img.numel() = 3072\n"
     ]
    }
   ],
   "source": [
    "def display_tensor_as_image(tensor: Tensor):\n",
    "    '''\n",
    "    Display a tensor of shape (3, 32, 32) as a (3, 32, 32) image.\n",
    "    '''\n",
    "    tensor = tensor.view(3, 32, 32)\n",
    "\n",
    "    to_img = transforms.ToPILImage()\n",
    "    img: Image.Image = to_img(tensor)\n",
    "\n",
    "    img = img.resize((32*4, 32*4))\n",
    "    display(img)\n",
    "\n",
    "\n",
    "idx_to_label = {\n",
    "    idx: label\n",
    "    for label, idx\n",
    "    in cifar.class_to_idx.items()\n",
    "}\n",
    "\n",
    "ex_img, ex_label_idx = cifar[0]\n",
    "display_tensor_as_image(ex_img)\n",
    "print(f'{ex_label_idx = }, {idx_to_label[ex_label_idx] = }', '\\n')\n",
    "print(f'{ex_img.shape = }')\n",
    "print(f'{ex_img.numel() = }')"
   ]
  },
  {
   "cell_type": "code",
   "execution_count": 5,
   "metadata": {},
   "outputs": [
    {
     "data": {
      "text/html": [
       "<div>\n",
       "<style scoped>\n",
       "    .dataframe tbody tr th:only-of-type {\n",
       "        vertical-align: middle;\n",
       "    }\n",
       "\n",
       "    .dataframe tbody tr th {\n",
       "        vertical-align: top;\n",
       "    }\n",
       "\n",
       "    .dataframe thead th {\n",
       "        text-align: right;\n",
       "    }\n",
       "</style>\n",
       "<table border=\"1\" class=\"dataframe\">\n",
       "  <thead>\n",
       "    <tr style=\"text-align: right;\">\n",
       "      <th></th>\n",
       "      <th>first_5000_value_counts</th>\n",
       "    </tr>\n",
       "  </thead>\n",
       "  <tbody>\n",
       "    <tr>\n",
       "      <th>ship</th>\n",
       "      <td>520</td>\n",
       "    </tr>\n",
       "    <tr>\n",
       "      <th>frog</th>\n",
       "      <td>519</td>\n",
       "    </tr>\n",
       "    <tr>\n",
       "      <th>bird</th>\n",
       "      <td>519</td>\n",
       "    </tr>\n",
       "    <tr>\n",
       "      <th>deer</th>\n",
       "      <td>519</td>\n",
       "    </tr>\n",
       "    <tr>\n",
       "      <th>airplane</th>\n",
       "      <td>505</td>\n",
       "    </tr>\n",
       "    <tr>\n",
       "      <th>truck</th>\n",
       "      <td>498</td>\n",
       "    </tr>\n",
       "    <tr>\n",
       "      <th>dog</th>\n",
       "      <td>488</td>\n",
       "    </tr>\n",
       "    <tr>\n",
       "      <th>horse</th>\n",
       "      <td>486</td>\n",
       "    </tr>\n",
       "    <tr>\n",
       "      <th>cat</th>\n",
       "      <td>486</td>\n",
       "    </tr>\n",
       "    <tr>\n",
       "      <th>automobile</th>\n",
       "      <td>460</td>\n",
       "    </tr>\n",
       "  </tbody>\n",
       "</table>\n",
       "</div>"
      ],
      "text/plain": [
       "            first_5000_value_counts\n",
       "ship                            520\n",
       "frog                            519\n",
       "bird                            519\n",
       "deer                            519\n",
       "airplane                        505\n",
       "truck                           498\n",
       "dog                             488\n",
       "horse                           486\n",
       "cat                             486\n",
       "automobile                      460"
      ]
     },
     "execution_count": 5,
     "metadata": {},
     "output_type": "execute_result"
    }
   ],
   "source": [
    "n = 5000\n",
    "\n",
    "first_n_items = [cifar[i] for i in range(n)]\n",
    "first_n_labels = [idx_to_label[idx]\n",
    "                    for _, idx\n",
    "                    in first_n_items]\n",
    "\n",
    "first_n_value_counts = pd.Series(first_n_labels).value_counts()\n",
    "\n",
    "(\n",
    "    pd.DataFrame(\n",
    "        data={\n",
    "            f'first_{n}_value_counts': first_n_value_counts,\n",
    "        }\n",
    "    )\n",
    ")\n"
   ]
  },
  {
   "cell_type": "markdown",
   "metadata": {},
   "source": [
    "The first 5,000 items are close enough to balanced that I'm ok using them as the validation set. A validation set of 5,000 represents 10% of the training dataset"
   ]
  },
  {
   "cell_type": "code",
   "execution_count": 6,
   "metadata": {},
   "outputs": [],
   "source": [
    "cifar_validation = [cifar[i] for i in range(0, n)]\n",
    "cifar_train = [cifar[i] for i in range(n, len(cifar))]\n",
    "\n",
    "assert len(cifar_validation) + len(cifar_train) == len(cifar)\n",
    "\n",
    "cifar_validation_loader = DataLoader(dataset=cifar_validation, batch_size=64, shuffle=True)"
   ]
  },
  {
   "cell_type": "markdown",
   "metadata": {},
   "source": [
    "### Data Augmentation\n",
    "\n",
    "I want to extend the training data to force the model to learn more robust representations of the images by doubling the training dataset size and variety by flipping all images horizontally"
   ]
  },
  {
   "cell_type": "code",
   "execution_count": 7,
   "metadata": {},
   "outputs": [
    {
     "data": {
      "image/png": "[encoded data removed]",
      "text/plain": [
       "<PIL.Image.Image image mode=RGB size=128x128>"
      ]
     },
     "metadata": {},
     "output_type": "display_data"
    },
    {
     "data": {
      "image/png": "[encoded data removed]",
      "text/plain": [
       "<PIL.Image.Image image mode=RGB size=128x128>"
      ]
     },
     "metadata": {},
     "output_type": "display_data"
    }
   ],
   "source": [
    "display_tensor_as_image(cifar_train[0][0])\n",
    "display_tensor_as_image(torch.flip(cifar_train[0][0], dims=[2]))"
   ]
  },
  {
   "cell_type": "code",
   "execution_count": 8,
   "metadata": {},
   "outputs": [
    {
     "data": {
      "image/png": "[encoded data removed]",
      "text/plain": [
       "<PIL.Image.Image image mode=RGB size=128x128>"
      ]
     },
     "metadata": {},
     "output_type": "display_data"
    },
    {
     "name": "stdout",
     "output_type": "stream",
     "text": [
      "len(cifar_train) = 90000\n"
     ]
    }
   ],
   "source": [
    "cifar_train_flipped = [(torch.flip(img, dims=[2]), label) for img, label in cifar_train]\n",
    "display_tensor_as_image(cifar_train_flipped[0][0])\n",
    "\n",
    "cifar_train.extend(cifar_train_flipped)\n",
    "print(f'{len(cifar_train) = }')\n",
    "cifar_train_loader = DataLoader(dataset=cifar_train, batch_size=64, shuffle=True)"
   ]
  },
  {
   "cell_type": "markdown",
   "metadata": {},
   "source": [
    "### Training Loop"
   ]
  },
  {
   "cell_type": "code",
   "execution_count": 9,
   "metadata": {},
   "outputs": [],
   "source": [
    "from typing import Callable\n",
    "\n",
    "def validate_one_epoch(model: nn.Module, validation_dataloader: DataLoader, loss_fn: Callable[[Tensor, Tensor], Tensor]) -> tuple[float, float]:\n",
    "    '''return the loss and the accuracy of the model on the validation dataloader'''\n",
    "    model.eval()\n",
    "\n",
    "    epoch_running_loss = 0\n",
    "    total_samples = 0\n",
    "    correct = 0\n",
    "\n",
    "    with torch.no_grad():\n",
    "        for inputs, labels in validation_dataloader:\n",
    "            inputs = inputs.to(device)\n",
    "            labels = labels.to(device)\n",
    "\n",
    "            logits = model(inputs)\n",
    "\n",
    "            # calculate loss\n",
    "            loss = loss_fn(logits, labels)\n",
    "            epoch_running_loss += loss.item()\n",
    "\n",
    "            # caluclate accuracy\n",
    "            _, predictions = torch.max(logits, 1)\n",
    "            correct += (predictions == labels).sum().item()\n",
    "            total_samples += len(inputs)\n",
    "\n",
    "    epoch_avg_loss = epoch_running_loss / len(validation_dataloader)\n",
    "    accuracy = correct / total_samples\n",
    "    \n",
    "    return epoch_avg_loss, accuracy\n",
    "\n",
    "\n",
    "def train_one_epoch(model: nn.Module, dataloader: DataLoader, loss_fn: Callable[[Tensor, Tensor], Tensor], optimizer: torch.optim.Optimizer) -> float:\n",
    "    '''train the model for one epoch. return the average loss of the epoch'''\n",
    "    model.train()\n",
    "\n",
    "    epoch_running_loss = 0\n",
    "\n",
    "    for batch in dataloader:\n",
    "        inputs, labels = batch\n",
    "\n",
    "        inputs = inputs.to(device) #  move to GPU if available\n",
    "        labels = labels.to(device) #  move to GPU if available\n",
    "\n",
    "        optimizer.zero_grad() # zero gradients\n",
    "\n",
    "        predictions = model(inputs)\n",
    "\n",
    "        # compute loss and propogate gradients\n",
    "        loss = loss_fn(predictions, labels)\n",
    "        loss.backward()\n",
    "\n",
    "        optimizer.step()\n",
    "\n",
    "        # update metainformation\n",
    "        epoch_running_loss += loss.item()\n",
    "\n",
    "    epoch_avg_loss = epoch_running_loss / len(dataloader)\n",
    "    return epoch_avg_loss\n",
    "\n",
    "\n",
    "def train_n_epochs(n: int, model: nn.Module, train_dataloader: DataLoader, validation_dataloader: DataLoader, loss_fn: Callable[[Tensor, Tensor], Tensor], optimizer: torch.optim.Optimizer) -> None:\n",
    "    for i in range(n):\n",
    "        epoch_train_avg_loss = train_one_epoch(model, train_dataloader, loss_fn, optimizer)\n",
    "        epoch_validation_avg_loss, epoch_validation_accuracy = validate_one_epoch(model, validation_dataloader, loss_fn)\n",
    "        print(f'EPOCH {i}:') \n",
    "        print(f'train - epoch avg loss: {epoch_train_avg_loss}')\n",
    "        print(f'valid - epoch avg loss: {epoch_validation_avg_loss}')\n",
    "        print(f'valid - epoch accuracy: {epoch_validation_accuracy }')\n",
    "        print()"
   ]
  },
  {
   "cell_type": "markdown",
   "metadata": {},
   "source": [
    "### Model Architecture"
   ]
  },
  {
   "cell_type": "code",
   "execution_count": 32,
   "metadata": {},
   "outputs": [],
   "source": [
    "class CNN(nn.Module):\n",
    "    '''\n",
    "    Convolutional Neural Network\n",
    "    '''\n",
    "    def __init__(self):\n",
    "        super(CNN, self).__init__()\n",
    "\n",
    "        layer_0_n_filters = 8\n",
    "        layer_1_n_filters = 32\n",
    "\n",
    "        # type self.features: (batch, 3, 32, 32) => (batch, layer_1_n_filters, 16, 16)\n",
    "        self.features = nn.Sequential(\n",
    "            nn.Conv2d(in_channels=3, out_channels=layer_0_n_filters, kernel_size=3, padding=int((3 - 1) / 2)),\n",
    "            nn.ReLU(),\n",
    "            nn.Conv2d(in_channels=layer_0_n_filters, out_channels=layer_1_n_filters, kernel_size=3, padding=int((3 - 1) / 2)),\n",
    "            nn.ReLU(),\n",
    "            nn.MaxPool2d(kernel_size=2, stride=2) # downsample\n",
    "        )\n",
    "\n",
    "        # type self.classify: (batch, layer_1_n_filters, 16, 16) => (batch, 10)\n",
    "        self.classify = nn.Sequential(\n",
    "            nn.Flatten(start_dim=1),\n",
    "            nn.Linear(layer_1_n_filters*16*16, 16*16),\n",
    "            nn.ReLU(),\n",
    "            nn.Linear(16*16, 10)\n",
    "        )\n",
    "\n",
    "\n",
    "    def forward(self, x):\n",
    "        x = self.features(x)\n",
    "        x = self.classify(x)\n",
    "        return x\n"
   ]
  },
  {
   "cell_type": "markdown",
   "metadata": {},
   "source": [
    "---\n",
    "## Model Training"
   ]
  },
  {
   "cell_type": "code",
   "execution_count": 33,
   "metadata": {},
   "outputs": [],
   "source": [
    "cnn = CNN()\n",
    "cnn.to(device)\n",
    "\n",
    "loss_fn = nn.CrossEntropyLoss()\n",
    "optimizer = torch.optim.Adam(lr=.001, params=cnn.parameters())"
   ]
  },
  {
   "cell_type": "code",
   "execution_count": 34,
   "metadata": {},
   "outputs": [
    {
     "name": "stdout",
     "output_type": "stream",
     "text": [
      "EPOCH 0:\n",
      "train - epoch avg loss: 1.3492425080725041\n",
      "valid - epoch avg loss: 1.1130486062810392\n",
      "valid - epoch accuracy: 0.598\n",
      "\n",
      "EPOCH 1:\n",
      "train - epoch avg loss: 0.9851394356271436\n",
      "valid - epoch avg loss: 0.942269175113002\n",
      "valid - epoch accuracy: 0.6738\n",
      "\n",
      "EPOCH 2:\n",
      "train - epoch avg loss: 0.8165012129503696\n",
      "valid - epoch avg loss: 0.8934724444075476\n",
      "valid - epoch accuracy: 0.6978\n",
      "\n",
      "EPOCH 3:\n",
      "train - epoch avg loss: 0.689756265920193\n",
      "valid - epoch avg loss: 0.8963997462127782\n",
      "valid - epoch accuracy: 0.6918\n",
      "\n",
      "EPOCH 4:\n",
      "train - epoch avg loss: 0.5716738376366644\n",
      "valid - epoch avg loss: 0.896726373630234\n",
      "valid - epoch accuracy: 0.7082\n",
      "\n",
      "EPOCH 5:\n",
      "train - epoch avg loss: 0.4635635595967266\n",
      "valid - epoch avg loss: 0.8957783296892915\n",
      "valid - epoch accuracy: 0.7144\n",
      "\n",
      "EPOCH 6:\n",
      "train - epoch avg loss: 0.3591768039547982\n",
      "valid - epoch avg loss: 0.9964712571494186\n",
      "valid - epoch accuracy: 0.7114\n",
      "\n",
      "EPOCH 7:\n",
      "train - epoch avg loss: 0.2663837889290144\n",
      "valid - epoch avg loss: 1.1618884726415706\n",
      "valid - epoch accuracy: 0.6904\n",
      "\n",
      "EPOCH 8:\n",
      "train - epoch avg loss: 0.19376847977460743\n",
      "valid - epoch avg loss: 1.3255378898186019\n",
      "valid - epoch accuracy: 0.6998\n",
      "\n",
      "EPOCH 9:\n",
      "train - epoch avg loss: 0.14566150779737252\n",
      "valid - epoch avg loss: 1.4388105092169363\n",
      "valid - epoch accuracy: 0.6984\n",
      "\n"
     ]
    }
   ],
   "source": [
    "n_epochs = 10\n",
    "train_n_epochs(n_epochs, cnn, cifar_train_loader, cifar_validation_loader, loss_fn, optimizer)"
   ]
  },
  {
   "cell_type": "markdown",
   "metadata": {},
   "source": [
    "---\n",
    "## Model Testing"
   ]
  },
  {
   "cell_type": "code",
   "execution_count": 36,
   "metadata": {},
   "outputs": [
    {
     "name": "stdout",
     "output_type": "stream",
     "text": [
      "Files already downloaded and verified\n"
     ]
    }
   ],
   "source": [
    "cifar_test = datasets.CIFAR10('./data', train=False, download=True, transform=transform)\n",
    "cifar_test_loader = DataLoader(dataset=cifar_test, batch_size=64, shuffle=True)"
   ]
  },
  {
   "cell_type": "code",
   "execution_count": 37,
   "metadata": {},
   "outputs": [
    {
     "name": "stdout",
     "output_type": "stream",
     "text": [
      "Accuracy of the cnn on the CIFAR-10 test images: 69.06%\n"
     ]
    }
   ],
   "source": [
    "cnn.eval()\n",
    "\n",
    "correct = 0\n",
    "total = 0\n",
    "\n",
    "all_predictions = []\n",
    "\n",
    "with torch.no_grad():\n",
    "    for inputs, labels in cifar_test_loader:\n",
    "        inputs = inputs.to(device)\n",
    "        labels = labels.to(device)\n",
    "\n",
    "        logits = cnn(inputs)\n",
    "\n",
    "        _, predictions = torch.max(logits, 1)\n",
    "\n",
    "        # predictions.shape = [64]\n",
    "        # labels.shape = [64]\n",
    "\n",
    "        all_predictions.append(predictions)\n",
    "\n",
    "        total += len(inputs)\n",
    "        correct += (predictions == labels).sum().item()\n",
    "\n",
    "accuracy = correct / total\n",
    "print(f'Accuracy of the cnn on the CIFAR-10 test images: {accuracy * 100}%')"
   ]
  },
  {
   "cell_type": "code",
   "execution_count": 38,
   "metadata": {},
   "outputs": [
    {
     "data": {
      "image/png": "[encoded data removed]",
      "text/plain": [
       "<Figure size 640x480 with 1 Axes>"
      ]
     },
     "metadata": {},
     "output_type": "display_data"
    }
   ],
   "source": [
    "predicted_value_counts = pd.Series(torch.cat(all_predictions)).value_counts()\n",
    "actual_value_counts = pd.Series(torch.cat([labels for inputs, labels in cifar_test_loader])).value_counts()\n",
    "\n",
    "for series in [predicted_value_counts, actual_value_counts]:\n",
    "    series.index = [idx_to_label[idx] for idx in series.index]\n",
    "\n",
    "df = (\n",
    "    pd.DataFrame(\n",
    "        data={\n",
    "            'Predicted': predicted_value_counts,\n",
    "            'Actual': actual_value_counts\n",
    "        }\n",
    "    )\n",
    ")\n",
    "\n",
    "\n",
    "df.plot.barh()\n",
    "plt.legend(loc = 3, bbox_to_anchor=(1,0))\n",
    "\n",
    "plt.show()"
   ]
  },
  {
   "cell_type": "code",
   "execution_count": 39,
   "metadata": {},
   "outputs": [
    {
     "data": {
      "text/plain": [
       "CNN(\n",
       "  (features): Sequential(\n",
       "    (0): Conv2d(3, 8, kernel_size=(3, 3), stride=(1, 1), padding=(1, 1))\n",
       "    (1): ReLU()\n",
       "    (2): Conv2d(8, 32, kernel_size=(3, 3), stride=(1, 1), padding=(1, 1))\n",
       "    (3): ReLU()\n",
       "    (4): MaxPool2d(kernel_size=2, stride=2, padding=0, dilation=1, ceil_mode=False)\n",
       "  )\n",
       "  (classify): Sequential(\n",
       "    (0): Flatten(start_dim=1, end_dim=-1)\n",
       "    (1): Linear(in_features=8192, out_features=256, bias=True)\n",
       "    (2): ReLU()\n",
       "    (3): Linear(in_features=256, out_features=10, bias=True)\n",
       "  )\n",
       ")"
      ]
     },
     "execution_count": 39,
     "metadata": {},
     "output_type": "execute_result"
    }
   ],
   "source": [
    "cnn"
   ]
  },
  {
   "cell_type": "markdown",
   "metadata": {},
   "source": [
    "### Model 0 - Baseline\n",
    "```python\n",
    "CNN(\n",
    "  (conv_1): Sequential(\n",
    "    (0): Conv2d(3, 10, kernel_size=(3, 3), stride=(1, 1), padding=(1, 1))\n",
    "    (1): ReLU()\n",
    "    (2): MaxPool2d(kernel_size=2, stride=2, padding=0, dilation=1, ceil_mode=False)\n",
    "  )\n",
    "  (fully_connected_1): Sequential(\n",
    "    (0): Linear(in_features=2560, out_features=100, bias=True)\n",
    "    (1): ReLU()\n",
    "  )\n",
    "  (fully_connected_2): Sequential(\n",
    "    (0): Linear(in_features=100, out_features=10, bias=True)\n",
    "  )\n",
    ")\n",
    "\n",
    "# num parameters\n",
    "sum(p.numel() for p in cnn.parameters() if p.requires_grad) # => 257390 parameters\n",
    "```\n",
    "\n",
    "#### First attempt\n",
    "\n",
    "- after 20 epcohs: 61.08% accuracy\n",
    "- after 30 epochs: 58.81% accuracy\n",
    "- after 40 epochs: 57.93% accuracy\n",
    "\n",
    "it is obviously overfitting.\n",
    "\n",
    "#### Second attempt\n",
    "\n",
    "##### Changes\n",
    "\n",
    "- augmented training dataset by flipping all images horizontally. (increased dataset size by 2)\n",
    "\n",
    "##### Performance\n",
    "\n",
    "```\n",
    "EPOCH 5:\n",
    "train - epoch avg loss: 0.761481237585187\n",
    "valid - epoch avg loss: 1.0753993060015425\n",
    "valid - epoch accuracy: 0.64\n",
    "```\n",
    "\n",
    "The more it trained, the more it became apparent that it began to overfit. After training 25 epochs (and overfitting), it got 61.8% accuracy on the test images\n",
    "\n",
    "#### Third attempt\n",
    "\n",
    "##### Changes\n",
    "\n",
    "### Model 1 \n",
    "```python\n",
    "CNN(\n",
    "  (features): Sequential(\n",
    "    (0): Conv2d(3, 8, kernel_size=(3, 3), stride=(1, 1), padding=(1, 1))\n",
    "    (1): ReLU()\n",
    "    (2): Conv2d(8, 32, kernel_size=(3, 3), stride=(1, 1), padding=(1, 1))\n",
    "    (3): ReLU()\n",
    "    (4): MaxPool2d(kernel_size=2, stride=2, padding=0, dilation=1, ceil_mode=False)\n",
    "  )\n",
    "  (classify): Sequential(\n",
    "    (0): Flatten(start_dim=1, end_dim=-1)\n",
    "    (1): Linear(in_features=8192, out_features=256, bias=True)\n",
    "    (2): ReLU()\n",
    "    (3): Linear(in_features=256, out_features=10, bias=True)\n",
    "  )\n",
    ")\n",
    "\n",
    "# type self.features: (batch, 3, 32, 32) => (batch, layer_1_n_filters, 16, 16)\n",
    "# type self.classify: (batch, layer_1_n_filters, 16, 16) => (batch, 10)\n",
    "```\n",
    "\n",
    "#### First training attempt\n",
    "```\n",
    "START\n",
    "EPOCH 0:\n",
    "train - epoch avg loss: 1.3492425080725041\n",
    "valid - epoch avg loss: 1.1130486062810392\n",
    "valid - epoch accuracy: 0.598\n",
    "\n",
    "\n",
    "BEST\n",
    "EPOCH 5:\n",
    "train - epoch avg loss: 0.4635635595967266\n",
    "valid - epoch avg loss: 0.8957783296892915\n",
    "valid - epoch accuracy: 0.7144\n",
    "\n",
    "WORST\n",
    "EPOCH 9:\n",
    "train - epoch avg loss: 0.14566150779737252\n",
    "valid - epoch avg loss: 1.4388105092169363\n",
    "valid - epoch accuracy: 0.6984\n",
    "```\n",
    "\n",
    "The model's very low loss on the training data but decreasing accuracy on the validation shows that it is severely overfitting.\n",
    "\n",
    "- [ ] TODO: add dropout"
   ]
  },
  {
   "cell_type": "markdown",
   "metadata": {},
   "source": [
    "---\n",
    "\n",
    "## General CNN Notes"
   ]
  },
  {
   "cell_type": "markdown",
   "metadata": {},
   "source": [
    "### What is the kernel doing with 3 channels?"
   ]
  },
  {
   "cell_type": "code",
   "execution_count": 40,
   "metadata": {},
   "outputs": [
    {
     "name": "stdout",
     "output_type": "stream",
     "text": [
      "kernel.weight.shape = torch.Size([1, 3, 3, 3]) \n",
      "\n",
      "input_data.shape = torch.Size([3, 5, 5]) \n",
      "\n"
     ]
    }
   ],
   "source": [
    "torch.manual_seed(3)\n",
    "\n",
    "kernel = nn.Conv2d(in_channels=3, out_channels=1, kernel_size=3, padding=1, stride=1)\n",
    "print(f'{kernel.weight.shape = }', '\\n')\n",
    "\n",
    "input_data = torch.ones(3, 5, 5)\n",
    "print(f'{input_data.shape = }', '\\n')"
   ]
  },
  {
   "cell_type": "code",
   "execution_count": 41,
   "metadata": {},
   "outputs": [
    {
     "name": "stdout",
     "output_type": "stream",
     "text": [
      "feature_map.shape = torch.Size([1, 5, 5])\n"
     ]
    }
   ],
   "source": [
    "feature_map = kernel(input_data)\n",
    "print(f'{feature_map.shape = }')"
   ]
  },
  {
   "cell_type": "code",
   "execution_count": 42,
   "metadata": {},
   "outputs": [
    {
     "data": {
      "text/plain": [
       "tensor(-0.3880, grad_fn=<SelectBackward0>)"
      ]
     },
     "execution_count": 31,
     "metadata": {},
     "output_type": "execute_result"
    }
   ],
   "source": [
    "feature_map_top_left_value = feature_map[0][0][0]\n",
    "feature_map_top_left_value"
   ]
  },
  {
   "cell_type": "markdown",
   "metadata": {},
   "source": [
    "-0.3880 is the actual output value at the top left of the feature map (aka the value from the top left corner of the input data). I want to calculate this manually to verify the calculation works like I expect "
   ]
  },
  {
   "cell_type": "code",
   "execution_count": 43,
   "metadata": {},
   "outputs": [
    {
     "data": {
      "text/plain": [
       "(tensor([[[0., 0., 0.],\n",
       "          [0., 1., 1.],\n",
       "          [0., 1., 1.]],\n",
       " \n",
       "         [[0., 0., 0.],\n",
       "          [0., 1., 1.],\n",
       "          [0., 1., 1.]],\n",
       " \n",
       "         [[0., 0., 0.],\n",
       "          [0., 1., 1.],\n",
       "          [0., 1., 1.]]]),\n",
       " torch.Size([3, 3, 3]))"
      ]
     },
     "execution_count": 66,
     "metadata": {},
     "output_type": "execute_result"
    }
   ],
   "source": [
    "import torch.nn.functional as F\n",
    "\n",
    "first_chunk_of_input = input_data[:, :2, :2]\n",
    "\n",
    "# pad tuple: (left, right, top, bottom)\n",
    "first_chunk_of_input = F.pad(first_chunk_of_input, (1, 0, 1, 0), 'constant', 0)\n",
    "\n",
    "first_chunk_of_input, first_chunk_of_input.shape"
   ]
  },
  {
   "cell_type": "markdown",
   "metadata": {},
   "source": [
    "#### Thinking of the problem with dot products"
   ]
  },
  {
   "cell_type": "markdown",
   "metadata": {},
   "source": [
    "This is an alternative view point (compared to element wise multiplication and then sums), which gives better insight into the fact that the kernel is capturing the similarity between the channels of the input data and the kernel's layers. The convolution operation is a channel wise operation of computing dot products with a sliding window."
   ]
  },
  {
   "cell_type": "code",
   "execution_count": 45,
   "metadata": {},
   "outputs": [
    {
     "data": {
      "text/plain": [
       "tensor([-0.3880], grad_fn=<AddBackward0>)"
      ]
     },
     "execution_count": 65,
     "metadata": {},
     "output_type": "execute_result"
    }
   ],
   "source": [
    "num_channels = 3\n",
    "kernel_layer_outputs = [torch.dot(kernel.weight[0][i].flatten(), first_chunk_of_input[i].flatten()) for i in range(num_channels)]\n",
    "sum(kernel_layer_outputs) + kernel.bias"
   ]
  }
 ],
 "metadata": {
  "kernelspec": {
   "display_name": "base",
   "language": "python",
   "name": "python3"
  },
  "language_info": {
   "codemirror_mode": {
    "name": "ipython",
    "version": 3
   },
   "file_extension": ".py",
   "mimetype": "text/x-python",
   "name": "python",
   "nbconvert_exporter": "python",
   "pygments_lexer": "ipython3",
   "version": "3.10.13"
  }
 },
 "nbformat": 4,
 "nbformat_minor": 2
}
