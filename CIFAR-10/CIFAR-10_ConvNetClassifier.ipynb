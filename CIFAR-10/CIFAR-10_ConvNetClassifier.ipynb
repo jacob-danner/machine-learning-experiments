{
 "cells": [
  {
   "cell_type": "markdown",
   "metadata": {},
   "source": [
    "# Table of Contents\n",
    "\n",
    "- Setup \n",
    "    - Dataset and DataLoader\n",
    "    - Training loop\n",
    "    - Model architecture\n",
    "- Model Training\n",
    "- Model Testing\n",
    "- General CNN Notes"
   ]
  },
  {
   "cell_type": "markdown",
   "metadata": {},
   "source": [
    "## Setup"
   ]
  },
  {
   "cell_type": "code",
   "execution_count": 1,
   "metadata": {},
   "outputs": [],
   "source": [
    "import torch\n",
    "from torch import tensor, Tensor\n",
    "import torch.nn as nn\n",
    "from torchvision import datasets, transforms\n",
    "from torch.utils.data import Dataset, DataLoader"
   ]
  },
  {
   "cell_type": "code",
   "execution_count": 2,
   "metadata": {},
   "outputs": [
    {
     "name": "stdout",
     "output_type": "stream",
     "text": [
      "device.type = 'cpu'\n"
     ]
    }
   ],
   "source": [
    "device = torch.device('cuda') if torch.cuda.is_available() else torch.device('cpu')\n",
    "print(f'{device.type = }')"
   ]
  },
  {
   "cell_type": "markdown",
   "metadata": {},
   "source": [
    "### Dataset and DataLoader"
   ]
  },
  {
   "cell_type": "code",
   "execution_count": 3,
   "metadata": {},
   "outputs": [
    {
     "name": "stdout",
     "output_type": "stream",
     "text": [
      "Files already downloaded and verified\n"
     ]
    }
   ],
   "source": [
    "transform = transforms.Compose([\n",
    "    transforms.ToTensor(),\n",
    "])\n",
    "\n",
    "cifar = datasets.CIFAR10('./data', train=True, download=True, transform=transform)\n",
    "cifar_loader = DataLoader(dataset=cifar, batch_size=64, shuffle=True)"
   ]
  },
  {
   "cell_type": "code",
   "execution_count": 4,
   "metadata": {},
   "outputs": [
    {
     "data": {
      "image/png": "[encoded data removed]",
      "text/plain": [
       "<PIL.Image.Image image mode=RGB size=128x128>"
      ]
     },
     "metadata": {},
     "output_type": "display_data"
    },
    {
     "name": "stdout",
     "output_type": "stream",
     "text": [
      "ex_label_idx = 6, idx_to_label[ex_label_idx] = 'frog' \n",
      "\n",
      "ex_img.shape = torch.Size([3, 32, 32])\n",
      "ex_img.numel() = 3072\n"
     ]
    }
   ],
   "source": [
    "def display_tensor_as_image(tensor: Tensor):\n",
    "    '''\n",
    "    Display a tensor of shape (3, 32, 32) as a (3, 32, 32) image.\n",
    "    '''\n",
    "    tensor = tensor.view(3, 32, 32)\n",
    "\n",
    "    to_img = transforms.ToPILImage()\n",
    "    img: Image.Image = to_img(tensor)\n",
    "\n",
    "    img = img.resize((32*4, 32*4))\n",
    "    display(img)\n",
    "\n",
    "\n",
    "idx_to_label = {\n",
    "    idx: label\n",
    "    for label, idx\n",
    "    in cifar.class_to_idx.items()\n",
    "}\n",
    "\n",
    "ex_img, ex_label_idx = cifar[0]\n",
    "display_tensor_as_image(ex_img)\n",
    "print(f'{ex_label_idx = }, {idx_to_label[ex_label_idx] = }', '\\n')\n",
    "print(f'{ex_img.shape = }')\n",
    "print(f'{ex_img.numel() = }')"
   ]
  },
  {
   "cell_type": "markdown",
   "metadata": {},
   "source": [
    "### Training Loop"
   ]
  },
  {
   "cell_type": "code",
   "execution_count": 5,
   "metadata": {},
   "outputs": [],
   "source": [
    "from typing import Callable\n",
    "\n",
    "def train_one_epoch(model: nn.Module, dataloader: DataLoader, loss_fn: Callable[[Tensor, Tensor], Tensor], optimizer: torch.optim.Optimizer) -> float:\n",
    "    epoch_running_loss = 0\n",
    "\n",
    "    for batch in dataloader:\n",
    "        inputs, labels = batch\n",
    "\n",
    "        inputs = inputs.to(device) #  move to GPU if available\n",
    "        labels = labels.to(device) #  move to GPU if available\n",
    "\n",
    "        optimizer.zero_grad() # zero gradients\n",
    "\n",
    "        predictions = model(inputs)\n",
    "\n",
    "        # compute loss and propogate gradients\n",
    "        loss = loss_fn(predictions, labels)\n",
    "        loss.backward()\n",
    "\n",
    "        optimizer.step()\n",
    "\n",
    "        # update metainformation\n",
    "        epoch_running_loss += loss.item()\n",
    "\n",
    "    epoch_avg_loss = epoch_running_loss / len(dataloader)\n",
    "    return epoch_avg_loss\n",
    "\n",
    "\n",
    "def train_n_epochs(n: int, model: nn.Module, dataloader: DataLoader, loss_fn: Callable[[Tensor, Tensor], Tensor], optimizer: torch.optim.Optimizer) -> None:\n",
    "    for i in range(n):\n",
    "        epoch_avg_loss = train_one_epoch(model, dataloader, loss_fn, optimizer)\n",
    "        print(f'epoch {i}: {epoch_avg_loss = }')"
   ]
  },
  {
   "cell_type": "markdown",
   "metadata": {},
   "source": [
    "### Model Architecture"
   ]
  },
  {
   "cell_type": "code",
   "execution_count": 6,
   "metadata": {},
   "outputs": [],
   "source": [
    "class CNN(nn.Module):\n",
    "    '''\n",
    "    Convolutional Neural Network\n",
    "    '''\n",
    "    def __init__(self):\n",
    "        super(CNN, self).__init__()\n",
    "        in_channels = 3 # rgb image\n",
    "        original_image_size = 32\n",
    "        \n",
    "        conv_1_n_kernels = 10\n",
    "        conv_1_kernel_size = 3\n",
    "        conv_1_padding = int((conv_1_kernel_size - 1) / 2) # this is the formula to preserve size assuming a stride of 1\n",
    "\n",
    "        self.conv_1 = nn.Sequential(\n",
    "            nn.Conv2d(in_channels=in_channels,\n",
    "                      out_channels=conv_1_n_kernels,\n",
    "                      kernel_size=conv_1_kernel_size,\n",
    "                      stride=1,\n",
    "                      padding=conv_1_padding),\n",
    "            nn.ReLU(),\n",
    "            nn.MaxPool2d(kernel_size=2, stride=2) # this downsamples the input by factor of 2\n",
    "        )\n",
    "\n",
    "        # conv layer 1 has about 30,720 parameters: (3 * 32 * 32) * 10\n",
    "\n",
    "        fully_connected_1_in = int(original_image_size /  2) ** 2 # account for downsample\n",
    "        fully_connected_1_out = 100\n",
    "        self.fully_connected_1 = nn.Sequential(\n",
    "            nn.Linear(fully_connected_1_in * conv_1_n_kernels, fully_connected_1_out),\n",
    "            nn.ReLU()\n",
    "        )\n",
    "\n",
    "        self.fully_connected_2 = nn.Sequential(\n",
    "            nn.Linear(fully_connected_1_out, 10),\n",
    "        )\n",
    "\n",
    "    def forward(self, x):\n",
    "        x = self.conv_1(x)\n",
    "        x = x.flatten(start_dim=1) # [batch_size, width, height] => [batch_size, width*height]\n",
    "        x = self.fully_connected_1(x)\n",
    "        x = self.fully_connected_2(x)\n",
    "        return x"
   ]
  },
  {
   "cell_type": "markdown",
   "metadata": {},
   "source": [
    "---\n",
    "## Model Training"
   ]
  },
  {
   "cell_type": "code",
   "execution_count": 9,
   "metadata": {},
   "outputs": [],
   "source": [
    "cnn = CNN()\n",
    "cnn.to(device)\n",
    "\n",
    "loss_fn = nn.CrossEntropyLoss()\n",
    "optimizer = torch.optim.Adam(lr=.001, params=cnn.parameters())"
   ]
  },
  {
   "cell_type": "markdown",
   "metadata": {},
   "source": [
    "This model has already trained for 40 epochs (20 + 10 + 10)"
   ]
  },
  {
   "cell_type": "code",
   "execution_count": 16,
   "metadata": {},
   "outputs": [
    {
     "name": "stdout",
     "output_type": "stream",
     "text": [
      "epoch 0: epoch_avg_loss = 0.4290241615279861\n",
      "epoch 1: epoch_avg_loss = 0.4101133056347023\n",
      "epoch 2: epoch_avg_loss = 0.39340878731530643\n",
      "epoch 3: epoch_avg_loss = 0.3825395021330365\n",
      "epoch 4: epoch_avg_loss = 0.36798539449034445\n",
      "epoch 5: epoch_avg_loss = 0.35850755237709836\n",
      "epoch 6: epoch_avg_loss = 0.3437392112163022\n",
      "epoch 7: epoch_avg_loss = 0.3315314308209035\n",
      "epoch 8: epoch_avg_loss = 0.3203093975953891\n",
      "epoch 9: epoch_avg_loss = 0.30704234016444676\n"
     ]
    }
   ],
   "source": [
    "n_epochs = 10 \n",
    "train_n_epochs(n_epochs, cnn, cifar_loader, loss_fn, optimizer)"
   ]
  },
  {
   "cell_type": "markdown",
   "metadata": {},
   "source": [
    "---\n",
    "## Model Testing"
   ]
  },
  {
   "cell_type": "code",
   "execution_count": 12,
   "metadata": {},
   "outputs": [
    {
     "name": "stdout",
     "output_type": "stream",
     "text": [
      "Files already downloaded and verified\n"
     ]
    }
   ],
   "source": [
    "cifar_test = datasets.CIFAR10('./data', train=False, download=True, transform=transform)\n",
    "cifar_test_loader = DataLoader(dataset=cifar_test, batch_size=64, shuffle=True)"
   ]
  },
  {
   "cell_type": "code",
   "execution_count": 17,
   "metadata": {},
   "outputs": [
    {
     "name": "stdout",
     "output_type": "stream",
     "text": [
      "Accuracy of the cnn on the MNIST test images: 57.93000000000001%\n"
     ]
    }
   ],
   "source": [
    "cnn.eval()\n",
    "\n",
    "correct = 0\n",
    "total = 0\n",
    "\n",
    "with torch.no_grad():\n",
    "    for inputs, labels in cifar_test_loader:\n",
    "        inputs = inputs.to(device)\n",
    "        labels = labels.to(device)\n",
    "\n",
    "        logits = cnn(inputs)\n",
    "\n",
    "        _, predictions = torch.max(logits, 1)\n",
    "\n",
    "        # predictions.shape = [64]\n",
    "        # labels.shape = [64]\n",
    "\n",
    "        total += len(inputs)\n",
    "        correct += (predictions == labels).sum().item()\n",
    "\n",
    "accuracy = correct / total\n",
    "print(f'Accuracy of the cnn on the MNIST test images: {accuracy * 100}%')"
   ]
  },
  {
   "cell_type": "markdown",
   "metadata": {},
   "source": [
    "### First Model - Baseline\n",
    "```python\n",
    "CNN(\n",
    "  (conv_1): Sequential(\n",
    "    (0): Conv2d(3, 10, kernel_size=(3, 3), stride=(1, 1), padding=(1, 1))\n",
    "    (1): ReLU()\n",
    "    (2): MaxPool2d(kernel_size=2, stride=2, padding=0, dilation=1, ceil_mode=False)\n",
    "  )\n",
    "  (fully_connected_1): Sequential(\n",
    "    (0): Linear(in_features=2560, out_features=100, bias=True)\n",
    "    (1): ReLU()\n",
    "  )\n",
    "  (fully_connected_2): Sequential(\n",
    "    (0): Linear(in_features=100, out_features=10, bias=True)\n",
    "  )\n",
    ")\n",
    "\n",
    "# num parameters\n",
    "sum(p.numel() for p in cnn.parameters() if p.requires_grad) # => 257390 parameters\n",
    "```\n",
    "\n",
    "- after 20 epcohs: 61.08% accuracy\n",
    "- after 30 epochs: 58.81% accuracy\n",
    "- after 40 epochs: 57.93% accuracy\n",
    "\n",
    "it is obviously overfitting."
   ]
  },
  {
   "cell_type": "markdown",
   "metadata": {},
   "source": []
  },
  {
   "cell_type": "markdown",
   "metadata": {},
   "source": [
    "---\n",
    "\n",
    "## General CNN Notes"
   ]
  },
  {
   "cell_type": "markdown",
   "metadata": {},
   "source": [
    "### What is the kernel doing with 3 channels?"
   ]
  },
  {
   "cell_type": "code",
   "execution_count": 9,
   "metadata": {},
   "outputs": [
    {
     "name": "stdout",
     "output_type": "stream",
     "text": [
      "kernel.weight.shape = torch.Size([1, 3, 3, 3]) \n",
      "\n",
      "input_data.shape = torch.Size([3, 5, 5]) \n",
      "\n"
     ]
    }
   ],
   "source": [
    "torch.manual_seed(3)\n",
    "\n",
    "kernel = nn.Conv2d(in_channels=3, out_channels=1, kernel_size=3, padding=1, stride=1)\n",
    "print(f'{kernel.weight.shape = }', '\\n')\n",
    "\n",
    "input_data = torch.ones(3, 5, 5)\n",
    "print(f'{input_data.shape = }', '\\n')"
   ]
  },
  {
   "cell_type": "code",
   "execution_count": 12,
   "metadata": {},
   "outputs": [
    {
     "name": "stdout",
     "output_type": "stream",
     "text": [
      "feature_map.shape = torch.Size([1, 5, 5])\n"
     ]
    }
   ],
   "source": [
    "feature_map = kernel(input_data)\n",
    "print(f'{feature_map.shape = }')"
   ]
  },
  {
   "cell_type": "code",
   "execution_count": 31,
   "metadata": {},
   "outputs": [
    {
     "data": {
      "text/plain": [
       "tensor(-0.3880, grad_fn=<SelectBackward0>)"
      ]
     },
     "execution_count": 31,
     "metadata": {},
     "output_type": "execute_result"
    }
   ],
   "source": [
    "feature_map_top_left_value = feature_map[0][0][0]\n",
    "feature_map_top_left_value"
   ]
  },
  {
   "cell_type": "markdown",
   "metadata": {},
   "source": [
    "-0.3880 is the actual output value at the top left of the feature map (aka the value from the top left corner of the input data). I want to calculate this manually to verify the calculation works like I expect "
   ]
  },
  {
   "cell_type": "code",
   "execution_count": 66,
   "metadata": {},
   "outputs": [
    {
     "data": {
      "text/plain": [
       "(tensor([[[0., 0., 0.],\n",
       "          [0., 1., 1.],\n",
       "          [0., 1., 1.]],\n",
       " \n",
       "         [[0., 0., 0.],\n",
       "          [0., 1., 1.],\n",
       "          [0., 1., 1.]],\n",
       " \n",
       "         [[0., 0., 0.],\n",
       "          [0., 1., 1.],\n",
       "          [0., 1., 1.]]]),\n",
       " torch.Size([3, 3, 3]))"
      ]
     },
     "execution_count": 66,
     "metadata": {},
     "output_type": "execute_result"
    }
   ],
   "source": [
    "import torch.nn.functional as F\n",
    "\n",
    "first_chunk_of_input = input_data[:, :2, :2]\n",
    "\n",
    "# pad tuple: (left, right, top, bottom)\n",
    "first_chunk_of_input = F.pad(first_chunk_of_input, (1, 0, 1, 0), 'constant', 0)\n",
    "\n",
    "first_chunk_of_input, first_chunk_of_input.shape"
   ]
  },
  {
   "cell_type": "markdown",
   "metadata": {},
   "source": [
    "#### Thinking of the problem with dot products"
   ]
  },
  {
   "cell_type": "markdown",
   "metadata": {},
   "source": [
    "This is an alternative view point (compared to element wise multiplication and then sums), which gives better insight into the fact that the kernel is capturing the similarity between the channels of the input data and the kernel's layers. The convolution operation is a channel wise operation of computing dot products with a sliding window."
   ]
  },
  {
   "cell_type": "code",
   "execution_count": 65,
   "metadata": {},
   "outputs": [
    {
     "data": {
      "text/plain": [
       "tensor([-0.3880], grad_fn=<AddBackward0>)"
      ]
     },
     "execution_count": 65,
     "metadata": {},
     "output_type": "execute_result"
    }
   ],
   "source": [
    "num_channels = 3\n",
    "kernel_layer_outputs = [torch.dot(kernel.weight[0][i].flatten(), first_chunk_of_input[i].flatten()) for i in range(num_channels)]\n",
    "sum(kernel_layer_outputs) + kernel.bias"
   ]
  }
 ],
 "metadata": {
  "kernelspec": {
   "display_name": "base",
   "language": "python",
   "name": "python3"
  },
  "language_info": {
   "codemirror_mode": {
    "name": "ipython",
    "version": 3
   },
   "file_extension": ".py",
   "mimetype": "text/x-python",
   "name": "python",
   "nbconvert_exporter": "python",
   "pygments_lexer": "ipython3",
   "version": "3.10.13"
  }
 },
 "nbformat": 4,
 "nbformat_minor": 2
}
