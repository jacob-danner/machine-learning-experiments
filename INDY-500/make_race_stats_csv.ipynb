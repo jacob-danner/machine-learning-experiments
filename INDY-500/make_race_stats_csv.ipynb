{
 "cells": [
  {
   "cell_type": "code",
   "execution_count": null,
   "metadata": {},
   "outputs": [],
   "source": [
    "!pip install duckdb -q\n",
    "\n",
    "import pandas as pd\n",
    "import duckdb\n",
    "\n",
    "def get_race_stats_df(start_year: int, end_year: int) -> pd.DataFrame:\n",
    "    base_url = 'https://www.indianapolismotorspeedway.com/events/indy500/history/historical-stats/race-stats/race-results'\n",
    "\n",
    "    og_column_names = ['Finish','Start', 'Qual. Speed', 'Car Num.', 'Driver', 'Car Name/Entrant', 'Make/Model', 'Status', 'Laps', 'Led', 'Winnings']\n",
    "    column_dtypes = ['int8', 'int8', 'float32', 'int8', 'string', 'string', 'string', 'string', 'int32', 'int32', 'string']\n",
    "    new_column_names = ['finish', 'start', 'qual_speed', 'car_num', 'driver', 'car_name', 'model', 'status', 'laps', 'led', 'winnings']\n",
    "\n",
    "    dtype_mapper = {og: dtype for og, dtype in zip(og_column_names, column_dtypes)}\n",
    "    column_mapper = {og: new for og, new in zip(og_column_names, new_column_names)}\n",
    "\n",
    "    df = (\n",
    "        pd.concat(\n",
    "            [\n",
    "                (\n",
    "                    pd.read_html(f'{base_url}/{year}')[0]\n",
    "                    .astype(dtype=dtype_mapper)\n",
    "                    .rename(columns=column_mapper)\n",
    "                    .assign(year=year)\n",
    "                    .assign(winnings=lambda df_: df_.winnings.str.replace('[\\$,]', '', regex=True)) # $1,000,000 -> 1000000\n",
    "                )\n",
    "                for year\n",
    "                in range(start_year, end_year)\n",
    "            ]\n",
    "        )\n",
    "        .reset_index(drop=True)\n",
    "    )\n",
    "\n",
    "    return df\n",
    "\n",
    "\n",
    "def main(start_year: int, end_year: int=2024):\n",
    "    df = get_race_stats_df(start_year, end_year)\n",
    "    df.to_csv(f'race_stats_{start_year}-{end_year}.csv', index=False )\n",
    "\n",
    "\n",
    "main(start_year=2000)"
   ]
  }
 ],
 "metadata": {
  "kernelspec": {
   "display_name": "base",
   "language": "python",
   "name": "python3"
  },
  "language_info": {
   "codemirror_mode": {
    "name": "ipython",
    "version": 3
   },
   "file_extension": ".py",
   "mimetype": "text/x-python",
   "name": "python",
   "nbconvert_exporter": "python",
   "pygments_lexer": "ipython3",
   "version": "3.10.14"
  }
 },
 "nbformat": 4,
 "nbformat_minor": 2
}
