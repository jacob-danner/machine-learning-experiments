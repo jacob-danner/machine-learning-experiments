{
 "cells": [
  {
   "cell_type": "markdown",
   "metadata": {},
   "source": [
    "## Dataset Preperation"
   ]
  },
  {
   "cell_type": "markdown",
   "metadata": {},
   "source": [
    "### Tokenization"
   ]
  },
  {
   "cell_type": "code",
   "execution_count": 1,
   "metadata": {},
   "outputs": [],
   "source": [
    "from transformers import BertTokenizer\n",
    "from datasets import load_dataset\n",
    "\n",
    "from functools import partial"
   ]
  },
  {
   "cell_type": "code",
   "execution_count": 2,
   "metadata": {},
   "outputs": [
    {
     "name": "stderr",
     "output_type": "stream",
     "text": [
      "/opt/conda/lib/python3.10/site-packages/huggingface_hub/file_download.py:1132: FutureWarning: `resume_download` is deprecated and will be removed in version 1.0.0. Downloads always resume when possible. If you want to force a new download, use `force_download=True`.\n",
      "  warnings.warn(\n"
     ]
    }
   ],
   "source": [
    "dataset = load_dataset('stanfordnlp/imdb')\n",
    "\n",
    "bert_tokenizer = BertTokenizer.from_pretrained('bert-base-uncased')\n",
    "\n",
    "def tokenize_function(examples, tokenizer):\n",
    "    return tokenizer(examples['text'], padding='max_length', truncation=True)\n",
    "\n",
    "bert_tokenize = partial(tokenize_function, tokenizer=bert_tokenizer)\n",
    "\n",
    "tokenized_train = dataset['train'].map(bert_tokenize, batched=True)"
   ]
  },
  {
   "cell_type": "markdown",
   "metadata": {},
   "source": [
    "### DataLoaders"
   ]
  },
  {
   "cell_type": "code",
   "execution_count": 3,
   "metadata": {},
   "outputs": [],
   "source": [
    "from torch.utils.data import DataLoader"
   ]
  },
  {
   "cell_type": "code",
   "execution_count": 9,
   "metadata": {},
   "outputs": [
    {
     "data": {
      "text/plain": [
       "(2344, 782)"
      ]
     },
     "execution_count": 9,
     "metadata": {},
     "output_type": "execute_result"
    }
   ],
   "source": [
    "split = tokenized_train.train_test_split()\n",
    "train, validation = split['train'], split['test']\n",
    "\n",
    "train_loader = DataLoader(train.with_format('torch'), batch_size=8)\n",
    "validation_loader = DataLoader(validation.with_format('torch'), batch_size=8)\n",
    "\n",
    "len(train_loader), len(validation_loader)"
   ]
  },
  {
   "cell_type": "markdown",
   "metadata": {},
   "source": [
    "## Training"
   ]
  },
  {
   "cell_type": "markdown",
   "metadata": {},
   "source": [
    "### Model"
   ]
  },
  {
   "cell_type": "code",
   "execution_count": null,
   "metadata": {},
   "outputs": [],
   "source": [
    "!pip install lightning -q"
   ]
  },
  {
   "cell_type": "code",
   "execution_count": 5,
   "metadata": {},
   "outputs": [
    {
     "name": "stderr",
     "output_type": "stream",
     "text": [
      "2024-06-08 19:49:40.303775: I tensorflow/core/platform/cpu_feature_guard.cc:182] This TensorFlow binary is optimized to use available CPU instructions in performance-critical operations.\n",
      "To enable the following instructions: SSE4.1 SSE4.2 AVX AVX2 AVX512F FMA, in other operations, rebuild TensorFlow with the appropriate compiler flags.\n"
     ]
    }
   ],
   "source": [
    "# pytorch\n",
    "import torch\n",
    "from torch import nn\n",
    "# lightning\n",
    "import lightning as L\n",
    "# transformers\n",
    "from transformers import DistilBertModel"
   ]
  },
  {
   "cell_type": "markdown",
   "metadata": {},
   "source": [
    "#### Example DistilBert model usage"
   ]
  },
  {
   "cell_type": "code",
   "execution_count": 6,
   "metadata": {},
   "outputs": [
    {
     "name": "stderr",
     "output_type": "stream",
     "text": [
      "/opt/conda/lib/python3.10/site-packages/huggingface_hub/file_download.py:1132: FutureWarning: `resume_download` is deprecated and will be removed in version 1.0.0. Downloads always resume when possible. If you want to force a new download, use `force_download=True`.\n",
      "  warnings.warn(\n"
     ]
    },
    {
     "name": "stdout",
     "output_type": "stream",
     "text": [
      "{'input_ids': tensor([[  101,  2023,  3793,  2097,  2131, 19204,  3550,  1998,  2979,  2000,\n",
      "          1996,  2944,   102]]), 'attention_mask': tensor([[1, 1, 1, 1, 1, 1, 1, 1, 1, 1, 1, 1, 1]])}\n",
      "BaseModelOutput(last_hidden_state=tensor([[[-0.3926, -0.4085,  0.1309,  ..., -0.2571,  0.0637,  0.5803],\n",
      "         [-0.4795, -0.3352,  0.1271,  ..., -0.3095,  0.2035,  0.3989],\n",
      "         [ 0.0195,  0.0232,  0.2583,  ..., -0.4280, -0.3019,  0.3976],\n",
      "         ...,\n",
      "         [-0.7386, -0.5224,  0.2975,  ..., -0.3621, -0.0776,  0.3723],\n",
      "         [-0.4253, -0.3041, -0.0472,  ..., -0.4011, -0.0266,  0.1344],\n",
      "         [ 0.8935,  0.0227, -0.4569,  ...,  0.1036, -0.7282, -0.3009]]],\n",
      "       grad_fn=<NativeLayerNormBackward0>), hidden_states=None, attentions=None)\n",
      "\n",
      "tensor([[[-0.3926, -0.4085,  0.1309,  ..., -0.2571,  0.0637,  0.5803],\n",
      "         [-0.4795, -0.3352,  0.1271,  ..., -0.3095,  0.2035,  0.3989],\n",
      "         [ 0.0195,  0.0232,  0.2583,  ..., -0.4280, -0.3019,  0.3976],\n",
      "         ...,\n",
      "         [-0.7386, -0.5224,  0.2975,  ..., -0.3621, -0.0776,  0.3723],\n",
      "         [-0.4253, -0.3041, -0.0472,  ..., -0.4011, -0.0266,  0.1344],\n",
      "         [ 0.8935,  0.0227, -0.4569,  ...,  0.1036, -0.7282, -0.3009]]],\n",
      "       grad_fn=<NativeLayerNormBackward0>)\n",
      "\n",
      "torch.Size([1, 13, 768])\n"
     ]
    }
   ],
   "source": [
    "distilbert = DistilBertModel.from_pretrained('distilbert-base-uncased')\n",
    "\n",
    "ex_input = bert_tokenizer('this text will get tokenized and passed to the model', return_tensors='pt')\n",
    "del ex_input['token_type_ids'] # DistilBert doesn't expect 'token_type_ids'\n",
    "print(ex_input)\n",
    "\n",
    "ex_output = distilbert(**ex_input)\n",
    "print(ex_output, ex_output.last_hidden_state, ex_output.last_hidden_state.shape, sep='\\n\\n') # the .last_hidden_state is what we really care about"
   ]
  },
  {
   "cell_type": "markdown",
   "metadata": {},
   "source": [
    "#### Bert with classification head"
   ]
  },
  {
   "cell_type": "code",
   "execution_count": 23,
   "metadata": {},
   "outputs": [],
   "source": [
    "class BertBinaryClassifier(L.LightningModule):\n",
    "    def __init__(self, bert:nn.Module):\n",
    "        super().__init__()\n",
    "        # freeze the bert parameters\n",
    "        for param in bert.parameters():\n",
    "            param.requires_grad = False\n",
    "\n",
    "        self.bert = bert \n",
    "\n",
    "        bert_output_dim = bert.config.dim\n",
    "        self.classify = nn.Linear(bert_output_dim, 1)\n",
    "\n",
    "        self.loss = nn.CrossEntropyLoss()\n",
    "\n",
    "\n",
    "    def forward(self, x):\n",
    "        outputs = self.bert(x)\n",
    "        cls_tokens = outputs.last_hidden_state[:, 0] # the [CLS] token is at index 0\n",
    "        classifications = self.classify(cls_tokens)\n",
    "        return classifications\n",
    "\n",
    "\n",
    "    def training_step(self, batch, batch_idx):\n",
    "        x = batch['input_ids']\n",
    "        y = batch['label']\n",
    "        pred = self.forward(x)\n",
    "        loss = self.loss(pred, y)\n",
    "\n",
    "        print(f'{type(loss) = }')\n",
    "\n",
    "        self.log('train_loss', loss)\n",
    "        return loss\n",
    "\n",
    "    # def validation_step(self, )\n",
    "\n",
    "    def configure_optimizers(self):\n",
    "        return torch.optim.Adam(lr=.01, params=self.parameters())\n",
    "\n",
    "\n",
    "def make_model(bert: nn.Module) -> nn.Module:\n",
    "    return BertBinaryClassifier(bert)"
   ]
  },
  {
   "cell_type": "code",
   "execution_count": 24,
   "metadata": {},
   "outputs": [
    {
     "name": "stderr",
     "output_type": "stream",
     "text": [
      "/opt/conda/lib/python3.10/site-packages/huggingface_hub/file_download.py:1132: FutureWarning: `resume_download` is deprecated and will be removed in version 1.0.0. Downloads always resume when possible. If you want to force a new download, use `force_download=True`.\n",
      "  warnings.warn(\n",
      "GPU available: False, used: False\n",
      "TPU available: False, using: 0 TPU cores\n",
      "IPU available: False, using: 0 IPUs\n",
      "HPU available: False, using: 0 HPUs\n",
      "\n",
      "  | Name     | Type             | Params\n",
      "----------------------------------------------\n",
      "0 | bert     | DistilBertModel  | 66.4 M\n",
      "1 | classify | Linear           | 769   \n",
      "2 | loss     | CrossEntropyLoss | 0     \n",
      "----------------------------------------------\n",
      "769       Trainable params\n",
      "66.4 M    Non-trainable params\n",
      "66.4 M    Total params\n",
      "265.455   Total estimated model params size (MB)\n"
     ]
    },
    {
     "data": {
      "application/vnd.jupyter.widget-view+json": {
       "model_id": "c344848c99834e95a538ae4052f645aa",
       "version_major": 2,
       "version_minor": 0
      },
      "text/plain": [
       "Training: |          | 0/? [00:00<?, ?it/s]"
      ]
     },
     "metadata": {},
     "output_type": "display_data"
    },
    {
     "ename": "",
     "evalue": "",
     "output_type": "error",
     "traceback": [
      "\u001b[1;31mCannot execute code, session has been disposed. Please try restarting the Kernel."
     ]
    },
    {
     "ename": "",
     "evalue": "",
     "output_type": "error",
     "traceback": [
      "\u001b[1;31mThe Kernel crashed while executing code in the the current cell or a previous cell. Please review the code in the cell(s) to identify a possible cause of the failure. Click <a href='https://aka.ms/vscodeJupyterKernelCrash'>here</a> for more info. View Jupyter <a href='command:jupyter.viewOutput'>log</a> for further details."
     ]
    }
   ],
   "source": [
    "distilbert = DistilBertModel.from_pretrained('distilbert-base-uncased')\n",
    "model = make_model(distilbert)\n",
    "\n",
    "# Initialize the PyTorch Lightning trainer\n",
    "trainer = L.Trainer(max_epochs=1, log_every_n_steps=1)\n",
    "\n",
    "# Train the mode\n",
    "trainer.fit(model, train_dataloaders=train_loader)"
   ]
  },
  {
   "cell_type": "code",
   "execution_count": 17,
   "metadata": {},
   "outputs": [
    {
     "data": {
      "text/plain": [
       "tensor([[-0.5683, -0.3293,  0.9554, -1.0273, -1.0586],\n",
       "        [ 1.0877, -0.6478, -1.3211,  0.6739,  1.0002],\n",
       "        [ 2.0045, -1.5789,  0.9868,  0.5266, -0.3147],\n",
       "        [-1.3763,  1.1556,  1.0450, -0.0393,  0.3330],\n",
       "        [-0.3574, -1.3078, -0.0788,  0.0850, -1.9643]])"
      ]
     },
     "execution_count": 17,
     "metadata": {},
     "output_type": "execute_result"
    }
   ],
   "source": [
    "x = torch.randn(5, 5)\n",
    "x.squeeze(-1)"
   ]
  },
  {
   "cell_type": "code",
   "execution_count": 35,
   "metadata": {},
   "outputs": [
    {
     "name": "stderr",
     "output_type": "stream",
     "text": [
      "/opt/conda/lib/python3.10/site-packages/huggingface_hub/file_download.py:1132: FutureWarning: `resume_download` is deprecated and will be removed in version 1.0.0. Downloads always resume when possible. If you want to force a new download, use `force_download=True`.\n",
      "  warnings.warn(\n"
     ]
    },
    {
     "data": {
      "text/plain": [
       "BertBinaryClassifier(\n",
       "  (bert): DistilBertModel(\n",
       "    (embeddings): Embeddings(\n",
       "      (word_embeddings): Embedding(30522, 768, padding_idx=0)\n",
       "      (position_embeddings): Embedding(512, 768)\n",
       "      (LayerNorm): LayerNorm((768,), eps=1e-12, elementwise_affine=True)\n",
       "      (dropout): Dropout(p=0.1, inplace=False)\n",
       "    )\n",
       "    (transformer): Transformer(\n",
       "      (layer): ModuleList(\n",
       "        (0-5): 6 x TransformerBlock(\n",
       "          (attention): MultiHeadSelfAttention(\n",
       "            (dropout): Dropout(p=0.1, inplace=False)\n",
       "            (q_lin): Linear(in_features=768, out_features=768, bias=True)\n",
       "            (k_lin): Linear(in_features=768, out_features=768, bias=True)\n",
       "            (v_lin): Linear(in_features=768, out_features=768, bias=True)\n",
       "            (out_lin): Linear(in_features=768, out_features=768, bias=True)\n",
       "          )\n",
       "          (sa_layer_norm): LayerNorm((768,), eps=1e-12, elementwise_affine=True)\n",
       "          (ffn): FFN(\n",
       "            (dropout): Dropout(p=0.1, inplace=False)\n",
       "            (lin1): Linear(in_features=768, out_features=3072, bias=True)\n",
       "            (lin2): Linear(in_features=3072, out_features=768, bias=True)\n",
       "            (activation): GELUActivation()\n",
       "          )\n",
       "          (output_layer_norm): LayerNorm((768,), eps=1e-12, elementwise_affine=True)\n",
       "        )\n",
       "      )\n",
       "    )\n",
       "  )\n",
       "  (classify): Linear(in_features=768, out_features=1, bias=True)\n",
       ")"
      ]
     },
     "execution_count": 35,
     "metadata": {},
     "output_type": "execute_result"
    }
   ],
   "source": [
    "class BertBinaryClassifier(L.LightningModule):\n",
    "\n",
    "# class BertBinaryClassifier(nn.Module):\n",
    "#     def __init__(self, bert: nn.Module):\n",
    "#         super(BertBinaryClassifier, self).__init__()\n",
    "\n",
    "#         # freeze the bert parameters\n",
    "#         for param in bert.parameters():\n",
    "#             param.requires_grad = False\n",
    "\n",
    "#         self.bert = bert \n",
    "\n",
    "#         bert_output_dim = bert.config.dim\n",
    "#         self.classify = nn.Linear(bert_output_dim, 1)\n",
    "\n",
    "#     def forward(self, x):\n",
    "#         x = self.bert(x)\n",
    "#         x = self.classify(x)\n",
    "#         return x\n",
    "\n",
    "\n",
    "# def make_model(bert: nn.Module) -> nn.Module:\n",
    "#     return BertBinaryClassifier(bert)\n",
    "\n",
    "\n",
    "# bert = DistilBertModel.from_pretrained('distilbert-base-uncased')\n",
    "\n",
    "# make_model(bert)"
   ]
  }
 ],
 "metadata": {
  "kernelspec": {
   "display_name": "base",
   "language": "python",
   "name": "python3"
  },
  "language_info": {
   "codemirror_mode": {
    "name": "ipython",
    "version": 3
   },
   "file_extension": ".py",
   "mimetype": "text/x-python",
   "name": "python",
   "nbconvert_exporter": "python",
   "pygments_lexer": "ipython3",
   "version": "3.10.14"
  }
 },
 "nbformat": 4,
 "nbformat_minor": 2
}
