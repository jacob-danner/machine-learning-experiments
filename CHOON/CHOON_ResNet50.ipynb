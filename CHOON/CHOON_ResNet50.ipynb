{
 "cells": [
  {
   "cell_type": "code",
   "execution_count": null,
   "metadata": {},
   "outputs": [],
   "source": [
    "!pip install duckdb"
   ]
  },
  {
   "cell_type": "markdown",
   "metadata": {},
   "source": [
    "## Setup"
   ]
  },
  {
   "cell_type": "markdown",
   "metadata": {},
   "source": [
    "### Dataset"
   ]
  },
  {
   "cell_type": "code",
   "execution_count": 1,
   "metadata": {},
   "outputs": [],
   "source": [
    "import torch\n",
    "import duckdb\n",
    "import pandas as pd\n"
   ]
  },
  {
   "cell_type": "code",
   "execution_count": 2,
   "metadata": {},
   "outputs": [
    {
     "data": {
      "text/plain": [
       "┌──────────────────┐\n",
       "│       name       │\n",
       "│     varchar      │\n",
       "├──────────────────┤\n",
       "│ choon_images     │\n",
       "│ not_choon_images │\n",
       "└──────────────────┘"
      ]
     },
     "execution_count": 2,
     "metadata": {},
     "output_type": "execute_result"
    }
   ],
   "source": [
    "con = duckdb.connect('choon_dataset.db')\n",
    "\n",
    "con.sql('SHOW TABLES')"
   ]
  },
  {
   "cell_type": "code",
   "execution_count": 3,
   "metadata": {},
   "outputs": [],
   "source": [
    "choon_df = (\n",
    "    con.sql('FROM choon_images').df()\n",
    "    .assign(label=1)\n",
    ")\n",
    "not_choon_df = (\n",
    "    con.sql('FROM not_choon_images').df()\n",
    "    .assign(label=0)\n",
    ")\n",
    "\n",
    "all_df = (\n",
    "    pd.concat([choon_df, not_choon_df])\n",
    "    .reset_index(drop=True)\n",
    ")"
   ]
  },
  {
   "cell_type": "code",
   "execution_count": 4,
   "metadata": {},
   "outputs": [
    {
     "data": {
      "text/html": [
       "<div>\n",
       "<style scoped>\n",
       "    .dataframe tbody tr th:only-of-type {\n",
       "        vertical-align: middle;\n",
       "    }\n",
       "\n",
       "    .dataframe tbody tr th {\n",
       "        vertical-align: top;\n",
       "    }\n",
       "\n",
       "    .dataframe thead th {\n",
       "        text-align: right;\n",
       "    }\n",
       "</style>\n",
       "<table border=\"1\" class=\"dataframe\">\n",
       "  <thead>\n",
       "    <tr style=\"text-align: right;\">\n",
       "      <th></th>\n",
       "      <th>image_tensors</th>\n",
       "      <th>label</th>\n",
       "    </tr>\n",
       "  </thead>\n",
       "  <tbody>\n",
       "    <tr>\n",
       "      <th>0</th>\n",
       "      <td>[0.7764706, 0.78039217, 0.78039217, 0.78039217...</td>\n",
       "      <td>1</td>\n",
       "    </tr>\n",
       "    <tr>\n",
       "      <th>1</th>\n",
       "      <td>[0.7764706, 0.78039217, 0.76862746, 0.7647059,...</td>\n",
       "      <td>1</td>\n",
       "    </tr>\n",
       "    <tr>\n",
       "      <th>2</th>\n",
       "      <td>[0.73333335, 0.74509805, 0.7529412, 0.7372549,...</td>\n",
       "      <td>1</td>\n",
       "    </tr>\n",
       "    <tr>\n",
       "      <th>3</th>\n",
       "      <td>[0.83137256, 0.8392157, 0.84313726, 0.8352941,...</td>\n",
       "      <td>1</td>\n",
       "    </tr>\n",
       "    <tr>\n",
       "      <th>4</th>\n",
       "      <td>[0.85490197, 0.8509804, 0.8509804, 0.8509804, ...</td>\n",
       "      <td>1</td>\n",
       "    </tr>\n",
       "    <tr>\n",
       "      <th>...</th>\n",
       "      <td>...</td>\n",
       "      <td>...</td>\n",
       "    </tr>\n",
       "    <tr>\n",
       "      <th>384</th>\n",
       "      <td>[0.7019608, 0.69411767, 0.69803923, 0.69803923...</td>\n",
       "      <td>0</td>\n",
       "    </tr>\n",
       "    <tr>\n",
       "      <th>385</th>\n",
       "      <td>[0.11764706, 0.11764706, 0.14509805, 0.1960784...</td>\n",
       "      <td>0</td>\n",
       "    </tr>\n",
       "    <tr>\n",
       "      <th>386</th>\n",
       "      <td>[0.4862745, 0.49019608, 0.49019608, 0.49019608...</td>\n",
       "      <td>0</td>\n",
       "    </tr>\n",
       "    <tr>\n",
       "      <th>387</th>\n",
       "      <td>[0.38039216, 0.3764706, 0.3529412, 0.3647059, ...</td>\n",
       "      <td>0</td>\n",
       "    </tr>\n",
       "    <tr>\n",
       "      <th>388</th>\n",
       "      <td>[0.5254902, 0.5529412, 0.5803922, 0.5882353, 0...</td>\n",
       "      <td>0</td>\n",
       "    </tr>\n",
       "  </tbody>\n",
       "</table>\n",
       "<p>389 rows × 2 columns</p>\n",
       "</div>"
      ],
      "text/plain": [
       "                                         image_tensors  label\n",
       "0    [0.7764706, 0.78039217, 0.78039217, 0.78039217...      1\n",
       "1    [0.7764706, 0.78039217, 0.76862746, 0.7647059,...      1\n",
       "2    [0.73333335, 0.74509805, 0.7529412, 0.7372549,...      1\n",
       "3    [0.83137256, 0.8392157, 0.84313726, 0.8352941,...      1\n",
       "4    [0.85490197, 0.8509804, 0.8509804, 0.8509804, ...      1\n",
       "..                                                 ...    ...\n",
       "384  [0.7019608, 0.69411767, 0.69803923, 0.69803923...      0\n",
       "385  [0.11764706, 0.11764706, 0.14509805, 0.1960784...      0\n",
       "386  [0.4862745, 0.49019608, 0.49019608, 0.49019608...      0\n",
       "387  [0.38039216, 0.3764706, 0.3529412, 0.3647059, ...      0\n",
       "388  [0.5254902, 0.5529412, 0.5803922, 0.5882353, 0...      0\n",
       "\n",
       "[389 rows x 2 columns]"
      ]
     },
     "execution_count": 4,
     "metadata": {},
     "output_type": "execute_result"
    }
   ],
   "source": [
    "all_df"
   ]
  },
  {
   "cell_type": "code",
   "execution_count": 31,
   "metadata": {},
   "outputs": [
    {
     "name": "stdout",
     "output_type": "stream",
     "text": [
      "train\n",
      "\tlen =   272\n",
      "\t% 0's = 0.54\n",
      "\t% 1's = 0.46\n",
      "valid\n",
      "\tlen =   59\n",
      "\t% 0's = 0.47\n",
      "\t% 1's = 0.53\n",
      "test\n",
      "\tlen =   58\n",
      "\t% 0's = 0.57\n",
      "\t% 1's = 0.43\n"
     ]
    }
   ],
   "source": [
    "all_shuffled = all_df.sample(frac=1, random_state=3).reset_index(drop=True)\n",
    "\n",
    "train_frac = 0.7  # 70% for training\n",
    "test_frac = 0.15  # 15% for testing\n",
    "validate_frac = 0.15  # 15% for validation\n",
    "\n",
    "total_len = len(df_shuffled)\n",
    "train_len = int(total_len * train_frac)\n",
    "test_len = int(total_len * test_frac)\n",
    "validate_len = total_len - train_len - test_len\n",
    "\n",
    "train_df = all_shuffled[:train_len]\n",
    "test_df = all_shuffled[train_len:train_len+test_len]\n",
    "valid_df = all_shuffled[train_len+test_len:]\n",
    "\n",
    "dfs = {\n",
    "    'train': train_set,\n",
    "    'valid': validate_set,\n",
    "    'test': test_set\n",
    "}\n",
    "\n",
    "for name, df in dfs.items():\n",
    "    percentages = df.label.value_counts() / len(df)\n",
    "    percentages = round(percentages, 2)\n",
    "    percent_0, percent_1 = percentages[0], percentages[1]\n",
    "    print(f\"{name}\")\n",
    "    print(f'\\tlen =   {len(df)}')\n",
    "    print(f\"\\t% 0's = {percent_0}\\n\\t% 1's = {percent_1}\")"
   ]
  }
 ],
 "metadata": {
  "kernelspec": {
   "display_name": "base",
   "language": "python",
   "name": "python3"
  },
  "language_info": {
   "codemirror_mode": {
    "name": "ipython",
    "version": 3
   },
   "file_extension": ".py",
   "mimetype": "text/x-python",
   "name": "python",
   "nbconvert_exporter": "python",
   "pygments_lexer": "ipython3",
   "version": "3.10.14"
  }
 },
 "nbformat": 4,
 "nbformat_minor": 2
}
