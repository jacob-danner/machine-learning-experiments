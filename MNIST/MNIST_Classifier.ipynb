{
  "nbformat": 4,
  "nbformat_minor": 0,
  "metadata": {
    "colab": {
      "provenance": [],
      "gpuType": "T4",
      "authorship_tag": "ABX9TyOUuLajEz0LXM5FXsokyu+w",
      "include_colab_link": true
    },
    "kernelspec": {
      "name": "python3",
      "display_name": "Python 3"
    },
    "language_info": {
      "name": "python"
    },
    "accelerator": "GPU",
    "widgets": {
      "application/vnd.jupyter.widget-state+json": {
        "a0d292fc674f4326aa93e1fd51762377": {
          "model_module": "@jupyter-widgets/controls",
          "model_name": "HBoxModel",
          "model_module_version": "1.5.0",
          "state": {
            "_dom_classes": [],
            "_model_module": "@jupyter-widgets/controls",
            "_model_module_version": "1.5.0",
            "_model_name": "HBoxModel",
            "_view_count": null,
            "_view_module": "@jupyter-widgets/controls",
            "_view_module_version": "1.5.0",
            "_view_name": "HBoxView",
            "box_style": "",
            "children": [
              "IPY_MODEL_f2be6adc202f40bdaef388b9b2500f3d",
              "IPY_MODEL_1743299c295e4f3680b4af51c90f2136",
              "IPY_MODEL_e0aa27fe33754f5694a7d6b4ddedba0c"
            ],
            "layout": "IPY_MODEL_67e5a6ca210c4679834fc2e8353c863c"
          }
        },
        "f2be6adc202f40bdaef388b9b2500f3d": {
          "model_module": "@jupyter-widgets/controls",
          "model_name": "HTMLModel",
          "model_module_version": "1.5.0",
          "state": {
            "_dom_classes": [],
            "_model_module": "@jupyter-widgets/controls",
            "_model_module_version": "1.5.0",
            "_model_name": "HTMLModel",
            "_view_count": null,
            "_view_module": "@jupyter-widgets/controls",
            "_view_module_version": "1.5.0",
            "_view_name": "HTMLView",
            "description": "",
            "description_tooltip": null,
            "layout": "IPY_MODEL_727381216d0b4d48bafd23056b349315",
            "placeholder": "​",
            "style": "IPY_MODEL_4ca73cb3a7d3492ab4945ab362ed8636",
            "value": "100%"
          }
        },
        "1743299c295e4f3680b4af51c90f2136": {
          "model_module": "@jupyter-widgets/controls",
          "model_name": "FloatProgressModel",
          "model_module_version": "1.5.0",
          "state": {
            "_dom_classes": [],
            "_model_module": "@jupyter-widgets/controls",
            "_model_module_version": "1.5.0",
            "_model_name": "FloatProgressModel",
            "_view_count": null,
            "_view_module": "@jupyter-widgets/controls",
            "_view_module_version": "1.5.0",
            "_view_name": "ProgressView",
            "bar_style": "success",
            "description": "",
            "description_tooltip": null,
            "layout": "IPY_MODEL_b548f104802f4ba19f5ac91f27b6d102",
            "max": 100,
            "min": 0,
            "orientation": "horizontal",
            "style": "IPY_MODEL_501ae0d6636840e98461563ff6ad759a",
            "value": 100
          }
        },
        "e0aa27fe33754f5694a7d6b4ddedba0c": {
          "model_module": "@jupyter-widgets/controls",
          "model_name": "HTMLModel",
          "model_module_version": "1.5.0",
          "state": {
            "_dom_classes": [],
            "_model_module": "@jupyter-widgets/controls",
            "_model_module_version": "1.5.0",
            "_model_name": "HTMLModel",
            "_view_count": null,
            "_view_module": "@jupyter-widgets/controls",
            "_view_module_version": "1.5.0",
            "_view_name": "HTMLView",
            "description": "",
            "description_tooltip": null,
            "layout": "IPY_MODEL_8688113b2fbd4f6290895d96885e6c73",
            "placeholder": "​",
            "style": "IPY_MODEL_91f7c0cc5eb84624a74033fe676fe2d6",
            "value": " 100/100 [00:01&lt;00:00, 93.76it/s]"
          }
        },
        "67e5a6ca210c4679834fc2e8353c863c": {
          "model_module": "@jupyter-widgets/base",
          "model_name": "LayoutModel",
          "model_module_version": "1.2.0",
          "state": {
            "_model_module": "@jupyter-widgets/base",
            "_model_module_version": "1.2.0",
            "_model_name": "LayoutModel",
            "_view_count": null,
            "_view_module": "@jupyter-widgets/base",
            "_view_module_version": "1.2.0",
            "_view_name": "LayoutView",
            "align_content": null,
            "align_items": null,
            "align_self": null,
            "border": null,
            "bottom": null,
            "display": null,
            "flex": null,
            "flex_flow": null,
            "grid_area": null,
            "grid_auto_columns": null,
            "grid_auto_flow": null,
            "grid_auto_rows": null,
            "grid_column": null,
            "grid_gap": null,
            "grid_row": null,
            "grid_template_areas": null,
            "grid_template_columns": null,
            "grid_template_rows": null,
            "height": null,
            "justify_content": null,
            "justify_items": null,
            "left": null,
            "margin": null,
            "max_height": null,
            "max_width": null,
            "min_height": null,
            "min_width": null,
            "object_fit": null,
            "object_position": null,
            "order": null,
            "overflow": null,
            "overflow_x": null,
            "overflow_y": null,
            "padding": null,
            "right": null,
            "top": null,
            "visibility": null,
            "width": null
          }
        },
        "727381216d0b4d48bafd23056b349315": {
          "model_module": "@jupyter-widgets/base",
          "model_name": "LayoutModel",
          "model_module_version": "1.2.0",
          "state": {
            "_model_module": "@jupyter-widgets/base",
            "_model_module_version": "1.2.0",
            "_model_name": "LayoutModel",
            "_view_count": null,
            "_view_module": "@jupyter-widgets/base",
            "_view_module_version": "1.2.0",
            "_view_name": "LayoutView",
            "align_content": null,
            "align_items": null,
            "align_self": null,
            "border": null,
            "bottom": null,
            "display": null,
            "flex": null,
            "flex_flow": null,
            "grid_area": null,
            "grid_auto_columns": null,
            "grid_auto_flow": null,
            "grid_auto_rows": null,
            "grid_column": null,
            "grid_gap": null,
            "grid_row": null,
            "grid_template_areas": null,
            "grid_template_columns": null,
            "grid_template_rows": null,
            "height": null,
            "justify_content": null,
            "justify_items": null,
            "left": null,
            "margin": null,
            "max_height": null,
            "max_width": null,
            "min_height": null,
            "min_width": null,
            "object_fit": null,
            "object_position": null,
            "order": null,
            "overflow": null,
            "overflow_x": null,
            "overflow_y": null,
            "padding": null,
            "right": null,
            "top": null,
            "visibility": null,
            "width": null
          }
        },
        "4ca73cb3a7d3492ab4945ab362ed8636": {
          "model_module": "@jupyter-widgets/controls",
          "model_name": "DescriptionStyleModel",
          "model_module_version": "1.5.0",
          "state": {
            "_model_module": "@jupyter-widgets/controls",
            "_model_module_version": "1.5.0",
            "_model_name": "DescriptionStyleModel",
            "_view_count": null,
            "_view_module": "@jupyter-widgets/base",
            "_view_module_version": "1.2.0",
            "_view_name": "StyleView",
            "description_width": ""
          }
        },
        "b548f104802f4ba19f5ac91f27b6d102": {
          "model_module": "@jupyter-widgets/base",
          "model_name": "LayoutModel",
          "model_module_version": "1.2.0",
          "state": {
            "_model_module": "@jupyter-widgets/base",
            "_model_module_version": "1.2.0",
            "_model_name": "LayoutModel",
            "_view_count": null,
            "_view_module": "@jupyter-widgets/base",
            "_view_module_version": "1.2.0",
            "_view_name": "LayoutView",
            "align_content": null,
            "align_items": null,
            "align_self": null,
            "border": null,
            "bottom": null,
            "display": null,
            "flex": null,
            "flex_flow": null,
            "grid_area": null,
            "grid_auto_columns": null,
            "grid_auto_flow": null,
            "grid_auto_rows": null,
            "grid_column": null,
            "grid_gap": null,
            "grid_row": null,
            "grid_template_areas": null,
            "grid_template_columns": null,
            "grid_template_rows": null,
            "height": null,
            "justify_content": null,
            "justify_items": null,
            "left": null,
            "margin": null,
            "max_height": null,
            "max_width": null,
            "min_height": null,
            "min_width": null,
            "object_fit": null,
            "object_position": null,
            "order": null,
            "overflow": null,
            "overflow_x": null,
            "overflow_y": null,
            "padding": null,
            "right": null,
            "top": null,
            "visibility": null,
            "width": null
          }
        },
        "501ae0d6636840e98461563ff6ad759a": {
          "model_module": "@jupyter-widgets/controls",
          "model_name": "ProgressStyleModel",
          "model_module_version": "1.5.0",
          "state": {
            "_model_module": "@jupyter-widgets/controls",
            "_model_module_version": "1.5.0",
            "_model_name": "ProgressStyleModel",
            "_view_count": null,
            "_view_module": "@jupyter-widgets/base",
            "_view_module_version": "1.2.0",
            "_view_name": "StyleView",
            "bar_color": null,
            "description_width": ""
          }
        },
        "8688113b2fbd4f6290895d96885e6c73": {
          "model_module": "@jupyter-widgets/base",
          "model_name": "LayoutModel",
          "model_module_version": "1.2.0",
          "state": {
            "_model_module": "@jupyter-widgets/base",
            "_model_module_version": "1.2.0",
            "_model_name": "LayoutModel",
            "_view_count": null,
            "_view_module": "@jupyter-widgets/base",
            "_view_module_version": "1.2.0",
            "_view_name": "LayoutView",
            "align_content": null,
            "align_items": null,
            "align_self": null,
            "border": null,
            "bottom": null,
            "display": null,
            "flex": null,
            "flex_flow": null,
            "grid_area": null,
            "grid_auto_columns": null,
            "grid_auto_flow": null,
            "grid_auto_rows": null,
            "grid_column": null,
            "grid_gap": null,
            "grid_row": null,
            "grid_template_areas": null,
            "grid_template_columns": null,
            "grid_template_rows": null,
            "height": null,
            "justify_content": null,
            "justify_items": null,
            "left": null,
            "margin": null,
            "max_height": null,
            "max_width": null,
            "min_height": null,
            "min_width": null,
            "object_fit": null,
            "object_position": null,
            "order": null,
            "overflow": null,
            "overflow_x": null,
            "overflow_y": null,
            "padding": null,
            "right": null,
            "top": null,
            "visibility": null,
            "width": null
          }
        },
        "91f7c0cc5eb84624a74033fe676fe2d6": {
          "model_module": "@jupyter-widgets/controls",
          "model_name": "DescriptionStyleModel",
          "model_module_version": "1.5.0",
          "state": {
            "_model_module": "@jupyter-widgets/controls",
            "_model_module_version": "1.5.0",
            "_model_name": "DescriptionStyleModel",
            "_view_count": null,
            "_view_module": "@jupyter-widgets/base",
            "_view_module_version": "1.2.0",
            "_view_name": "StyleView",
            "description_width": ""
          }
        }
      }
    }
  },
  "cells": [
    {
      "cell_type": "markdown",
      "metadata": {
        "id": "view-in-github",
        "colab_type": "text"
      },
      "source": [
        "<a href=\"https://colab.research.google.com/github/jacob-danner/machine-learning-experiments/blob/main/MNIST/MNIST_Classifier.ipynb\" target=\"_parent\"><img src=\"https://colab.research.google.com/assets/colab-badge.svg\" alt=\"Open In Colab\"/></a>"
      ]
    },
    {
      "cell_type": "code",
      "execution_count": 81,
      "metadata": {
        "id": "MCCmVy-YUlok"
      },
      "outputs": [],
      "source": [
        "import torch\n",
        "import torch.nn as nn\n",
        "from torch import Tensor, tensor\n",
        "\n",
        "from torchvision import datasets, transforms\n",
        "from torch.utils.data import DataLoader, Dataset\n",
        "from torch.optim import SGD\n",
        "\n",
        "import numpy as np\n",
        "\n",
        "from PIL import Image"
      ]
    },
    {
      "cell_type": "code",
      "source": [
        "!pip install -q torch-lr-finder\n",
        "from torch_lr_finder import LRFinder"
      ],
      "metadata": {
        "id": "V0rM_stHUyWL"
      },
      "execution_count": 82,
      "outputs": []
    },
    {
      "cell_type": "code",
      "source": [
        "if torch.cuda.is_available():\n",
        "    device = torch.device('cuda')\n",
        "    print('Using GPU:', torch.cuda.get_device_name(0))\n",
        "else:\n",
        "    device = torch.device('cpu')\n",
        "    print('GPU is not available, using the CPU instead.')"
      ],
      "metadata": {
        "id": "zUHwoxb0U06n",
        "colab": {
          "base_uri": "https://localhost:8080/"
        },
        "outputId": "71db5c31-6ee0-4b93-ebb7-30d7c906bd4d"
      },
      "execution_count": 83,
      "outputs": [
        {
          "output_type": "stream",
          "name": "stdout",
          "text": [
            "Using GPU: Tesla T4\n"
          ]
        }
      ]
    },
    {
      "cell_type": "code",
      "source": [
        "# transforms\n",
        "\n",
        "class FlattenImage():\n",
        "    def __call__(self, x):\n",
        "        return x.view(28*28)\n",
        "\n",
        "transforms = transforms.Compose([\n",
        "    transforms.ToTensor(),\n",
        "    FlattenImage()\n",
        "])"
      ],
      "metadata": {
        "id": "ax-R6WE-U5gK"
      },
      "execution_count": 85,
      "outputs": []
    },
    {
      "cell_type": "code",
      "source": [
        "mnist = datasets.MNIST(root='./data', train=True, transform=transforms, download=True)\n",
        "mnist_loader = DataLoader(dataset=mnist, batch_size=64, shuffle=True)"
      ],
      "metadata": {
        "id": "o3scF-R1VChD"
      },
      "execution_count": 86,
      "outputs": []
    },
    {
      "cell_type": "code",
      "source": [
        "class MLP(nn.Module):\n",
        "    '''\n",
        "    input layer = 784\n",
        "    output layer = 10\n",
        "    '''\n",
        "\n",
        "    def __init__(self):\n",
        "        super(MLP, self).__init__()\n",
        "        self.layers = nn.Sequential(\n",
        "            nn.Linear(784, 200),\n",
        "            nn.ReLU(),\n",
        "            nn.Linear(200, 10),\n",
        "        )\n",
        "\n",
        "    def forward(self, x):\n",
        "        return self.layers(x)"
      ],
      "metadata": {
        "id": "7Ch0zB4ILpKD"
      },
      "execution_count": 150,
      "outputs": []
    },
    {
      "cell_type": "code",
      "source": [
        "from typing import Callable\n",
        "from dataclasses import dataclass\n",
        "\n",
        "def train_one_epoch(model: MLP, dataloader: DataLoader, loss_fn: Callable[[Tensor, Tensor], Tensor], optimizer: torch.optim.Optimizer) -> float:\n",
        "    epoch_running_loss = 0\n",
        "\n",
        "    for batch in dataloader:\n",
        "        inputs, labels = batch\n",
        "\n",
        "        inputs = inputs.to(device) #  move to GPU if available\n",
        "        labels = labels.to(device) #  move to GPU if available\n",
        "\n",
        "        optimizer.zero_grad() # zero gradients\n",
        "\n",
        "        predictions = model(inputs)\n",
        "\n",
        "        # compute loss and propogate gradients\n",
        "        loss = loss_fn(predictions, labels)\n",
        "        loss.backward()\n",
        "\n",
        "        optimizer.step()\n",
        "\n",
        "        # update metainformation\n",
        "        epoch_running_loss += loss.item()\n",
        "\n",
        "    epoch_avg_loss = epoch_running_loss / len(dataloader)\n",
        "    return epoch_avg_loss\n",
        "\n",
        "\n",
        "def train_n_epochs(n: int, model: MLP, dataloader: DataLoader, loss_fn: Callable[[Tensor, Tensor], Tensor], optimizer: torch.optim.Optimizer) -> None:\n",
        "    for i in range(n):\n",
        "        epoch_avg_loss = train_one_epoch(model, dataloader, loss_fn, optimizer)\n",
        "        print(f'epoch {i}: {epoch_avg_loss = }')\n"
      ],
      "metadata": {
        "id": "Ii36dlqrMu_f"
      },
      "execution_count": 90,
      "outputs": []
    },
    {
      "cell_type": "code",
      "source": [
        "def update_optimizer_lr(optimizer, new_lr):\n",
        "    \"\"\"Update the learning rate of an optimizer.\"\"\"\n",
        "    for param_group in optimizer.param_groups:\n",
        "        param_group['lr'] = new_lr\n",
        "\n",
        "model = MLP()\n",
        "model.to(device)\n",
        "loss_fn = nn.CrossEntropyLoss()\n",
        "optimizer = SGD(lr=.0001, params=model.parameters())\n",
        "\n",
        "# update learning rate\n",
        "lr_finder = LRFinder(model, optimizer, loss_fn, device=device)\n",
        "lr_finder.range_test(mnist_loader, end_lr=3, num_iter=100)\n",
        "min_grad_idx = (np.gradient(np.array(lr_finder.history['loss']))).argmin()\n",
        "optimal_lr = lr_finder.history['lr'][min_grad_idx]\n",
        "\n",
        "update_optimizer_lr(optimizer, optimal_lr)\n",
        "\n",
        "lr_finder.plot()\n",
        "\n",
        "n_epochs = 25\n",
        "train_n_epochs(n_epochs, model, mnist_loader, loss_fn, optimizer)"
      ],
      "metadata": {
        "colab": {
          "base_uri": "https://localhost:8080/",
          "height": 972,
          "referenced_widgets": [
            "a0d292fc674f4326aa93e1fd51762377",
            "f2be6adc202f40bdaef388b9b2500f3d",
            "1743299c295e4f3680b4af51c90f2136",
            "e0aa27fe33754f5694a7d6b4ddedba0c",
            "67e5a6ca210c4679834fc2e8353c863c",
            "727381216d0b4d48bafd23056b349315",
            "4ca73cb3a7d3492ab4945ab362ed8636",
            "b548f104802f4ba19f5ac91f27b6d102",
            "501ae0d6636840e98461563ff6ad759a",
            "8688113b2fbd4f6290895d96885e6c73",
            "91f7c0cc5eb84624a74033fe676fe2d6"
          ]
        },
        "id": "L73DqQi5kKMT",
        "outputId": "bc445886-2d46-45cc-9530-01565ad98e52"
      },
      "execution_count": 152,
      "outputs": [
        {
          "output_type": "display_data",
          "data": {
            "text/plain": [
              "  0%|          | 0/100 [00:00<?, ?it/s]"
            ],
            "application/vnd.jupyter.widget-view+json": {
              "version_major": 2,
              "version_minor": 0,
              "model_id": "a0d292fc674f4326aa93e1fd51762377"
            }
          },
          "metadata": {}
        },
        {
          "output_type": "stream",
          "name": "stdout",
          "text": [
            "Learning rate search finished. See the graph with {finder_name}.plot()\n",
            "LR suggestion: steepest gradient\n",
            "Suggested LR: 4.15E-01\n"
          ]
        },
        {
          "output_type": "display_data",
          "data": {
            "text/plain": [
              "<Figure size 640x480 with 1 Axes>"
            ],
            "image/png": "[encoded data removed]"
          },
          "metadata": {}
        },
        {
          "output_type": "stream",
          "name": "stdout",
          "text": [
            "epoch 0: epoch_avg_loss = 0.44673831235450595\n",
            "epoch 1: epoch_avg_loss = 0.1592848012263555\n",
            "epoch 2: epoch_avg_loss = 0.12207175021730998\n",
            "epoch 3: epoch_avg_loss = 0.10239555028233446\n",
            "epoch 4: epoch_avg_loss = 0.08754908752420158\n",
            "epoch 5: epoch_avg_loss = 0.07560732398035207\n",
            "epoch 6: epoch_avg_loss = 0.06674801096764964\n",
            "epoch 7: epoch_avg_loss = 0.058991075964269245\n",
            "epoch 8: epoch_avg_loss = 0.05477143449672579\n",
            "epoch 9: epoch_avg_loss = 0.047476399157604356\n",
            "epoch 10: epoch_avg_loss = 0.042550635289277695\n",
            "epoch 11: epoch_avg_loss = 0.03977312294036291\n",
            "epoch 12: epoch_avg_loss = 0.035976782628979936\n",
            "epoch 13: epoch_avg_loss = 0.03130583850399299\n",
            "epoch 14: epoch_avg_loss = 0.0302588072703354\n",
            "epoch 15: epoch_avg_loss = 0.02456943720591186\n",
            "epoch 16: epoch_avg_loss = 0.023790782149846375\n",
            "epoch 17: epoch_avg_loss = 0.022174786679560382\n",
            "epoch 18: epoch_avg_loss = 0.018929089176939425\n",
            "epoch 19: epoch_avg_loss = 0.01775975528625437\n",
            "epoch 20: epoch_avg_loss = 0.014171183196377746\n",
            "epoch 21: epoch_avg_loss = 0.0135987147950645\n",
            "epoch 22: epoch_avg_loss = 0.010536993378840351\n",
            "epoch 23: epoch_avg_loss = 0.010391273297624558\n",
            "epoch 24: epoch_avg_loss = 0.008816551506937073\n"
          ]
        }
      ]
    },
    {
      "cell_type": "markdown",
      "source": [
        "# Test"
      ],
      "metadata": {
        "id": "z49NLkjFmkJB"
      }
    },
    {
      "cell_type": "code",
      "source": [
        "mnist_test = datasets.MNIST(root='./data', train=False, transform=transforms, download=True)\n",
        "mnist_test_loader = DataLoader(dataset=mnist_test, batch_size=64, shuffle=True)"
      ],
      "metadata": {
        "id": "B5icWhf1mgtV"
      },
      "execution_count": 106,
      "outputs": []
    },
    {
      "cell_type": "code",
      "source": [
        "model.eval()\n",
        "\n",
        "correct = 0\n",
        "total = 0\n",
        "\n",
        "with torch.no_grad():\n",
        "    for inputs, labels in mnist_test_loader:\n",
        "        inputs = inputs.to(device)\n",
        "        labels = labels.to(device)\n",
        "\n",
        "        logits = model(inputs)\n",
        "\n",
        "        _, predictions = torch.max(logits, 1)\n",
        "\n",
        "        # predictions.shape = [64]\n",
        "        # labels.shape = [64]\n",
        "\n",
        "        total += len(inputs)\n",
        "        correct += (predictions == labels).sum().item()\n",
        "\n",
        "accuracy = correct / total\n",
        "print(f'Accuracy of the model on the MNIST test images: {accuracy * 100}%')"
      ],
      "metadata": {
        "colab": {
          "base_uri": "https://localhost:8080/"
        },
        "id": "U-3O7yG1msTX",
        "outputId": "19177b32-9b7f-4874-c479-c79edfcc0d66"
      },
      "execution_count": 156,
      "outputs": [
        {
          "output_type": "stream",
          "name": "stdout",
          "text": [
            "Accuracy of the model on the MNIST test images: 97.47%\n"
          ]
        }
      ]
    },
    {
      "cell_type": "markdown",
      "source": [
        "# Multi Class Classification in Pytorch\n",
        "\n",
        "__NOTE__: This may not be 100% accurate, but captures the main concepts.\n",
        "\n",
        "The default implementation of cross entropy loss takes in probabiliy distribution (from softmax), and calculates the negative log of the corresponding probability (the value at the index of the real category). In other words, compare the predictetd distribution to the real distribution. This is called the negative log likelihood.\n",
        "\n",
        "For computational efficiency as well as numerical stability, in PyTorch, you don't use softmax first. You directly feed the logits (output from network) to the loss function. Under the hood the loss function:\n",
        "\n",
        "- calculates probability distribution (not using softmax)\n",
        "- looks up the value of the probability at the index of the real category\n",
        "- calculates the negative log of the value\n",
        "\n",
        "Pseudocode example:\n",
        "\n",
        "```python\n",
        "real_category = 2\n",
        "probabilities = [.25, .25, .5] # softmax output\n",
        "corresponding_probability = probabilities[real_category]\n",
        "loss = -torch.log(corresponding_probability)\n",
        "```\n",
        "\n",
        "This is conceptually the same as:\n",
        "```python\n",
        "loss = nn.CrossEntropyLoss()(logits.unsqueeze(0), tensor([true_class]))\n",
        "```\n",
        "\n",
        "Real runnable example code:\n",
        "```python\n",
        "\n",
        "logits = torch.randn(5)\n",
        "print(f'{logits = }')\n",
        "print(f'{logits.unsqueeze(0) = }', '\\n')\n",
        "\n",
        "probabilites = nn.Softmax(0)(logits)\n",
        "print(f'{probabilites = }', '\\n')\n",
        "\n",
        "true_class = 3\n",
        "\n",
        "manual_loss = -torch.log(probabilites[true_class])\n",
        "print(f'{probabilites[true_class] = }')\n",
        "print(f'{manual_loss = }', '\\n')\n",
        "\n",
        "auto_loss = nn.CrossEntropyLoss()(logits.unsqueeze(0), tensor([true_class]))\n",
        "print(f'{auto_loss = }')\n",
        "```"
      ],
      "metadata": {
        "id": "TgAeEdwDdleG"
      }
    }
  ]
}