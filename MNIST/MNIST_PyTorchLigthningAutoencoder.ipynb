{
 "cells": [
  {
   "cell_type": "markdown",
   "metadata": {},
   "source": [
    "## Dataset"
   ]
  },
  {
   "cell_type": "code",
   "execution_count": 1,
   "metadata": {},
   "outputs": [],
   "source": [
    "from torch.utils.data import DataLoader, random_split\n",
    "from torchvision import datasets, transforms"
   ]
  },
  {
   "cell_type": "code",
   "execution_count": 2,
   "metadata": {},
   "outputs": [
    {
     "data": {
      "text/plain": [
       "(45000, 6000, 9000)"
      ]
     },
     "execution_count": 2,
     "metadata": {},
     "output_type": "execute_result"
    }
   ],
   "source": [
    "transform = transforms.Compose([\n",
    "    transforms.ToTensor(),\n",
    "    transforms.Lambda(lambda x: torch.flatten(x))\n",
    "])\n",
    "\n",
    "mnist = datasets.MNIST(root='./data', train=True, transform=transform, download=True)\n",
    "\n",
    "train, valid, test = random_split(mnist, lengths=[.75, .1, .15])\n",
    "\n",
    "train_loader = DataLoader(train, batch_size=64, shuffle=True)\n",
    "valid_loader = DataLoader(valid, batch_size=64, shuffle=False)\n",
    "test_loader = DataLoader(test, batch_size=64, shuffle=False)\n",
    "\n",
    "len(train), len(valid), len(test)"
   ]
  },
  {
   "cell_type": "markdown",
   "metadata": {},
   "source": [
    "## Model"
   ]
  },
  {
   "cell_type": "code",
   "execution_count": 3,
   "metadata": {},
   "outputs": [
    {
     "name": "stderr",
     "output_type": "stream",
     "text": [
      "2024-06-13 01:28:15.687863: I tensorflow/core/platform/cpu_feature_guard.cc:182] This TensorFlow binary is optimized to use available CPU instructions in performance-critical operations.\n",
      "To enable the following instructions: SSE4.1 SSE4.2 AVX AVX2 AVX512F FMA, in other operations, rebuild TensorFlow with the appropriate compiler flags.\n"
     ]
    }
   ],
   "source": [
    "# pytorch\n",
    "import torch\n",
    "from torch import tensor\n",
    "import torch.nn as nn\n",
    "\n",
    "# lightning\n",
    "import pytorch_lightning as L\n",
    "\n",
    "# other\n",
    "import os\n",
    "import pandas as pd\n",
    "import matplotlib.pyplot as plt"
   ]
  },
  {
   "cell_type": "code",
   "execution_count": 4,
   "metadata": {},
   "outputs": [],
   "source": [
    "class Encoder(nn.Module):\n",
    "    def __init__(self, input_dim: int, embedding_dim: int):\n",
    "        super().__init__()\n",
    "\n",
    "        self.layer = nn.Sequential(\n",
    "            nn.Linear(input_dim, embedding_dim),\n",
    "            nn.ReLU(),\n",
    "        )\n",
    "\n",
    "    def forward(self, x):\n",
    "        x = self.layer(x)\n",
    "        return x\n",
    "\n",
    "\n",
    "class Decoder(nn.Module):\n",
    "    def __init__(self, embedding_dim: int, output_dim: int):\n",
    "        super().__init__()\n",
    "\n",
    "        self.layer = nn.Sequential(\n",
    "            nn.Linear(embedding_dim, output_dim),\n",
    "            nn.ReLU(),\n",
    "        )\n",
    "\n",
    "    def forward(self, x):\n",
    "        x = self.layer(x)\n",
    "        return x\n",
    "\n",
    "\n",
    "class Autoencoder(L.LightningModule):\n",
    "    def __init__(self, input_dim, embedding_dim):\n",
    "        super().__init__()\n",
    "\n",
    "        self.loss_fn = nn.MSELoss()\n",
    "\n",
    "        self.encoder = Encoder(input_dim, embedding_dim)\n",
    "        self.decoder = Decoder(embedding_dim, input_dim)\n",
    "\n",
    "    def forward(self, x):\n",
    "        x = self.encoder(x)\n",
    "        x = self.decoder(x)\n",
    "        return x\n",
    "\n",
    "    def training_step(self, batch, batch_idx):\n",
    "        x, _ = batch\n",
    "        y = x # because autoencoder\n",
    "\n",
    "        output = self.forward(x)\n",
    "        loss = self.loss_fn(output, y)\n",
    "        self.log('train_loss', loss)\n",
    "        return loss\n",
    "\n",
    "    def validation_step(self, batch, batch_idx):\n",
    "        x, _ = batch\n",
    "        y = x # because autoencoder\n",
    "\n",
    "        output = self.forward(x)\n",
    "        loss = self.loss_fn(output, y)\n",
    "        self.log('val_loss', loss)\n",
    "\n",
    "    def test_step(self, batch, batch_idx):\n",
    "        x, _ = batch\n",
    "        y = x # because autoencoder\n",
    "\n",
    "        output = self.forward(x)\n",
    "        loss = self.loss_fn(output, y)\n",
    "        self.log('test_loss', loss)\n",
    "\n",
    "    def configure_optimizers(self):\n",
    "        return torch.optim.Adam(lr=0.001, params=self.parameters())\n"
   ]
  },
  {
   "cell_type": "code",
   "execution_count": 32,
   "metadata": {},
   "outputs": [
    {
     "name": "stderr",
     "output_type": "stream",
     "text": [
      "GPU available: False, used: False\n",
      "TPU available: False, using: 0 TPU cores\n",
      "IPU available: False, using: 0 IPUs\n",
      "HPU available: False, using: 0 HPUs\n",
      "\n",
      "  | Name    | Type    | Params\n",
      "------------------------------------\n",
      "0 | loss_fn | MSELoss | 0     \n",
      "1 | encoder | Encoder | 39.2 K\n",
      "2 | decoder | Decoder | 40.0 K\n",
      "------------------------------------\n",
      "79.2 K    Trainable params\n",
      "0         Non-trainable params\n",
      "79.2 K    Total params\n",
      "0.317     Total estimated model params size (MB)\n"
     ]
    },
    {
     "data": {
      "application/vnd.jupyter.widget-view+json": {
       "model_id": "03e4b64f32e54b77a747df6fd05b9614",
       "version_major": 2,
       "version_minor": 0
      },
      "text/plain": [
       "Sanity Checking: 0it [00:00, ?it/s]"
      ]
     },
     "metadata": {},
     "output_type": "display_data"
    },
    {
     "data": {
      "application/vnd.jupyter.widget-view+json": {
       "model_id": "cef9982665534465a7eaf7fdac69e518",
       "version_major": 2,
       "version_minor": 0
      },
      "text/plain": [
       "Training: 0it [00:00, ?it/s]"
      ]
     },
     "metadata": {},
     "output_type": "display_data"
    },
    {
     "data": {
      "application/vnd.jupyter.widget-view+json": {
       "model_id": "ecdb26924d234676b45385e2a79a3a63",
       "version_major": 2,
       "version_minor": 0
      },
      "text/plain": [
       "Validation: 0it [00:00, ?it/s]"
      ]
     },
     "metadata": {},
     "output_type": "display_data"
    },
    {
     "name": "stderr",
     "output_type": "stream",
     "text": [
      "`Trainer.fit` stopped: `max_epochs=1` reached.\n"
     ]
    }
   ],
   "source": [
    "log_save_dir = 'autoencoder_logs'\n",
    "\n",
    "input_dim = 784\n",
    "embedding_dim = 50\n",
    "\n",
    "model = Autoencoder(input_dim, embedding_dim)\n",
    "\n",
    "trainer = L.Trainer(\n",
    "    logger=L.loggers.CSVLogger(save_dir=log_save_dir),\n",
    "    max_epochs=1\n",
    ")\n",
    "\n",
    "trainer.fit(\n",
    "    model, \n",
    "    train_loader, \n",
    "    valid_loader,\n",
    ")\n",
    "\n",
    "logs_df = get_latest_logs_as_df(log_save_dir)"
   ]
  },
  {
   "cell_type": "code",
   "execution_count": 31,
   "metadata": {},
   "outputs": [
    {
     "data": {
      "image/png": "[encoded data removed]",
      "text/plain": [
       "<Figure size 640x480 with 1 Axes>"
      ]
     },
     "metadata": {},
     "output_type": "display_data"
    },
    {
     "data": {
      "image/png": "[encoded data removed]",
      "text/plain": [
       "<Figure size 640x480 with 1 Axes>"
      ]
     },
     "metadata": {},
     "output_type": "display_data"
    },
    {
     "data": {
      "image/png": "[encoded data removed]",
      "text/plain": [
       "<PIL.Image.Image image mode=L size=112x112>"
      ]
     },
     "metadata": {},
     "output_type": "display_data"
    },
    {
     "data": {
      "image/png": "[encoded data removed]",
      "text/plain": [
       "<PIL.Image.Image image mode=L size=112x112>"
      ]
     },
     "metadata": {},
     "output_type": "display_data"
    }
   ],
   "source": [
    "# logs_df\n",
    "\n",
    "logs_df.train_loss.plot()\n",
    "plt.ylim(0, .5)\n",
    "plt.show()\n",
    "logs_df.val_loss.plot()\n",
    "plt.ylim(0, .5)\n",
    "plt.show()\n",
    "\n",
    "\n",
    "# visual test\n",
    "\n",
    "test_ex = test[0][0]\n",
    "display_tensor_as_image(test_ex)\n",
    "display_tensor_as_image(model(test_ex))"
   ]
  },
  {
   "cell_type": "markdown",
   "metadata": {},
   "source": [
    "## Visualization utils"
   ]
  },
  {
   "cell_type": "code",
   "execution_count": 23,
   "metadata": {},
   "outputs": [],
   "source": [
    "from pathlib import Path\n",
    "\n",
    "def get_latest_logs_as_df(log_save_dir) -> pd.DataFrame:\n",
    "    log_versions_dir = f'{log_save_dir}/lightning_logs'\n",
    "    latest_log_dir = os.listdir(log_versions_dir)[-1]\n",
    "    latest_csv = f'{log_versions_dir}/{latest_log_dir}/metrics.csv'\n",
    "\n",
    "    return pd.read_csv(latest_csv)\n",
    "\n",
    "\n",
    "def display_tensor_as_image(tensor):\n",
    "    to_img = transforms.ToPILImage()\n",
    "    tensor = tensor.view(28, 28)\n",
    "    img: Image.Image = to_img(tensor)\n",
    "    img = img.resize((28*4, 28*4))\n",
    "    display(img)\n"
   ]
  },
  {
   "cell_type": "code",
   "execution_count": 24,
   "metadata": {},
   "outputs": [],
   "source": [
    "logs_df = get_latest_logs_as_df('autoencoder_logs')"
   ]
  }
 ],
 "metadata": {
  "kernelspec": {
   "display_name": "base",
   "language": "python",
   "name": "python3"
  },
  "language_info": {
   "codemirror_mode": {
    "name": "ipython",
    "version": 3
   },
   "file_extension": ".py",
   "mimetype": "text/x-python",
   "name": "python",
   "nbconvert_exporter": "python",
   "pygments_lexer": "ipython3",
   "version": "3.10.14"
  }
 },
 "nbformat": 4,
 "nbformat_minor": 2
}
