{
 "cells": [
  {
   "cell_type": "markdown",
   "metadata": {},
   "source": [
    "# Table of Contents\n",
    "\n",
    "- Setup \n",
    "    - Dataset and DataLoader\n",
    "    - Training loop\n",
    "    - Model architecture\n",
    "- Model training"
   ]
  },
  {
   "cell_type": "code",
   "execution_count": 1,
   "metadata": {},
   "outputs": [],
   "source": [
    "import torch\n",
    "from torch import tensor, Tensor\n",
    "import torch.nn as nn\n",
    "from torchvision import datasets\n",
    "from torch.utils.data import Dataset, DataLoader\n",
    "\n",
    "from utils import display_tensor_as_image, transform"
   ]
  },
  {
   "cell_type": "markdown",
   "metadata": {},
   "source": [
    "## Setup"
   ]
  },
  {
   "cell_type": "code",
   "execution_count": 2,
   "metadata": {},
   "outputs": [
    {
     "name": "stdout",
     "output_type": "stream",
     "text": [
      "device.type = 'cpu'\n"
     ]
    }
   ],
   "source": [
    "device = torch.device('cuda') if torch.cuda.is_available() else torch.device('cpu')\n",
    "print(f'{device.type = }')"
   ]
  },
  {
   "cell_type": "markdown",
   "metadata": {},
   "source": [
    "### Dataset and DataLoader"
   ]
  },
  {
   "cell_type": "code",
   "execution_count": 3,
   "metadata": {},
   "outputs": [],
   "source": [
    "mnist = datasets.MNIST(root='./data', train=True, transform=transform, download=True)\n",
    "mnist_loader = DataLoader(dataset=mnist, batch_size=64, shuffle=True)"
   ]
  },
  {
   "cell_type": "code",
   "execution_count": 4,
   "metadata": {},
   "outputs": [
    {
     "data": {
      "image/png": "[encoded data removed]",
      "text/plain": [
       "<PIL.Image.Image image mode=L size=112x112>"
      ]
     },
     "metadata": {},
     "output_type": "display_data"
    }
   ],
   "source": [
    "display_tensor_as_image(mnist[0][0])"
   ]
  },
  {
   "cell_type": "markdown",
   "metadata": {},
   "source": [
    "### Training loop"
   ]
  },
  {
   "cell_type": "code",
   "execution_count": 5,
   "metadata": {},
   "outputs": [],
   "source": [
    "from typing import Callable\n",
    "\n",
    "def train_one_epoch(model: nn.Module, dataloader: DataLoader, loss_fn: Callable[[Tensor, Tensor], Tensor], optimizer: torch.optim.Optimizer) -> float:\n",
    "    epoch_running_loss = 0\n",
    "\n",
    "    for batch in dataloader:\n",
    "        inputs, labels = batch\n",
    "\n",
    "        inputs = inputs.to(device) #  move to GPU if available\n",
    "        labels = labels.to(device) #  move to GPU if available\n",
    "\n",
    "        optimizer.zero_grad() # zero gradients\n",
    "\n",
    "        predictions = model(inputs)\n",
    "\n",
    "        # compute loss and propogate gradients\n",
    "        loss = loss_fn(predictions, labels)\n",
    "        loss.backward()\n",
    "\n",
    "        optimizer.step()\n",
    "\n",
    "        # update metainformation\n",
    "        epoch_running_loss += loss.item()\n",
    "\n",
    "    epoch_avg_loss = epoch_running_loss / len(dataloader)\n",
    "    return epoch_avg_loss\n",
    "\n",
    "\n",
    "def train_n_epochs(n: int, model: nn.Module, dataloader: DataLoader, loss_fn: Callable[[Tensor, Tensor], Tensor], optimizer: torch.optim.Optimizer) -> None:\n",
    "    for i in range(n):\n",
    "        epoch_avg_loss = train_one_epoch(model, dataloader, loss_fn, optimizer)\n",
    "        print(f'epoch {i}: {epoch_avg_loss = }')\n"
   ]
  },
  {
   "cell_type": "markdown",
   "metadata": {},
   "source": [
    "### Model architecture"
   ]
  },
  {
   "cell_type": "code",
   "execution_count": 95,
   "metadata": {},
   "outputs": [],
   "source": [
    "class CNN(nn.Module):\n",
    "    '''\n",
    "    Convolutional Neural Network\n",
    "    '''\n",
    "    def __init__(self, n_kernels, kernel_size):\n",
    "        super(CNN, self).__init__()\n",
    "        in_channels = 1 # grayscale image\n",
    "        padding = int((kernel_size - 1) / 2) # this is the formula to preserve size assuming a stride of 1\n",
    "\n",
    "        self.conv_1 = nn.Conv2d(in_channels=in_channels,\n",
    "                                out_channels=n_kernels,\n",
    "                                kernel_size=kernel_size,\n",
    "                                stride=1,\n",
    "                                padding=padding)\n",
    "        self.pooling_1 = nn.MaxPool2d(kernel_size=2, stride=2) # this downsamples the input by factor of 2\n",
    "\n",
    "        # n_weights_per_kernel = (kernel_size * kernel_size * in_channels) // 2 # after the downsampling\n",
    "        # in_features = n_weights_per_kernel * n_kernels\n",
    "\n",
    "        in_features = int(28 / 2) ** 2 # 28*28 gets downsampled to 14*14\n",
    "        self.fully_connected_1 = nn.Linear(in_features, 10)\n",
    "\n",
    "    def forward(self, x):\n",
    "        print(f'{x.shape = }')\n",
    "        x = self.conv_1(x)\n",
    "        print(f'conv_1(x) =>             {x.shape = }')\n",
    "        x = self.pooling_1(x)\n",
    "        print(f'pooling_1(x) =>          {x.shape = }')\n",
    "        x = x.flatten()\n",
    "        print(f'x.flatten() =>           {x.shape = }')\n",
    "        x = self.fully_connected_1(x)\n",
    "        print(f'x.fully_connected_1() => {x.shape = }')\n",
    "        return x"
   ]
  },
  {
   "cell_type": "code",
   "execution_count": 104,
   "metadata": {},
   "outputs": [
    {
     "name": "stdout",
     "output_type": "stream",
     "text": [
      "x.shape = torch.Size([1, 28, 28])\n",
      "conv_1(x) =>             x.shape = torch.Size([1, 28, 28])\n",
      "pooling_1(x) =>          x.shape = torch.Size([1, 14, 14])\n",
      "x.flatten() =>           x.shape = torch.Size([196])\n",
      "x.fully_connected_1() => x.shape = torch.Size([10])\n",
      "torch.Size([10])\n"
     ]
    },
    {
     "data": {
      "text/plain": [
       "tensor([-0.0750,  0.2866,  0.1940,  0.0928, -0.1657,  0.1932,  0.0901, -0.6652,\n",
       "         0.0971,  0.1767], grad_fn=<AddBackward0>)"
      ]
     },
     "execution_count": 104,
     "metadata": {},
     "output_type": "execute_result"
    }
   ],
   "source": [
    "# x = torch.ones(1, 28, 28)\n",
    "\n",
    "# m = CNN(1, 3)\n",
    "\n",
    "# out = m(x)\n",
    "# print(out.shape)\n",
    "# out"
   ]
  },
  {
   "cell_type": "markdown",
   "metadata": {},
   "source": [
    "## Model training"
   ]
  }
 ],
 "metadata": {
  "kernelspec": {
   "display_name": "base",
   "language": "python",
   "name": "python3"
  },
  "language_info": {
   "codemirror_mode": {
    "name": "ipython",
    "version": 3
   },
   "file_extension": ".py",
   "mimetype": "text/x-python",
   "name": "python",
   "nbconvert_exporter": "python",
   "pygments_lexer": "ipython3",
   "version": "3.10.13"
  }
 },
 "nbformat": 4,
 "nbformat_minor": 2
}
