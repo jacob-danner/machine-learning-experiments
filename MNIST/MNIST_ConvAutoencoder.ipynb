{
 "cells": [
  {
   "cell_type": "code",
   "execution_count": 29,
   "metadata": {},
   "outputs": [],
   "source": [
    "# pytorch\n",
    "import torch\n",
    "from torch import tensor\n",
    "import torch.nn as nn\n",
    "from torch.utils.data import DataLoader, random_split\n",
    "from torchvision import datasets, transforms\n",
    "\n",
    "# lightning\n",
    "import pytorch_lightning as L\n",
    "\n",
    "# other\n",
    "import os\n",
    "import pandas as pd\n",
    "import matplotlib.pyplot as plt\n",
    "from typing import Optional"
   ]
  },
  {
   "cell_type": "markdown",
   "metadata": {},
   "source": [
    "## Dataset"
   ]
  },
  {
   "cell_type": "code",
   "execution_count": 2,
   "metadata": {},
   "outputs": [
    {
     "data": {
      "text/plain": [
       "(45000, 6000, 9000)"
      ]
     },
     "execution_count": 2,
     "metadata": {},
     "output_type": "execute_result"
    }
   ],
   "source": [
    "transform = transforms.Compose([\n",
    "    transforms.ToTensor(),\n",
    "])\n",
    "\n",
    "mnist = datasets.MNIST(root='./data', train=True, transform=transform, download=True)\n",
    "\n",
    "train, valid, test = random_split(mnist, lengths=[.75, .1, .15])\n",
    "\n",
    "loader_n_workers = os.cpu_count()\n",
    "\n",
    "train_loader = DataLoader(train, batch_size=64, shuffle=True, num_workers=loader_n_workers)\n",
    "valid_loader = DataLoader(valid, batch_size=64, shuffle=False, num_workers=loader_n_workers)\n",
    "test_loader = DataLoader(test, batch_size=64, shuffle=False, num_workers=loader_n_workers)\n",
    "\n",
    "len(train), len(valid), len(test)"
   ]
  },
  {
   "cell_type": "markdown",
   "metadata": {},
   "source": [
    "## Model"
   ]
  },
  {
   "cell_type": "code",
   "execution_count": 101,
   "metadata": {},
   "outputs": [],
   "source": [
    "class ConvLayer(nn.Module):\n",
    "    def __init__(self, in_channels: int, n_kernels: int):\n",
    "        super().__init__()\n",
    "\n",
    "        kernel_size = 5\n",
    "        padding = int((kernel_size - 1) / 2) # this is the formula to preserve size assuming a stride of 1\n",
    "\n",
    "        self.layer = nn.Sequential(\n",
    "            nn.Conv2d(in_channels=in_channels,\n",
    "                      out_channels=n_kernels,\n",
    "                      kernel_size=kernel_size,\n",
    "                      stride=1,\n",
    "                      padding=padding),\n",
    "            nn.ReLU(),\n",
    "            nn.MaxPool2d(kernel_size=2, stride=2) # this downsamples the input by factor of 2\n",
    "        )\n",
    "\n",
    "    def forward(self, x):\n",
    "        return self.layer(x)\n",
    "\n",
    "\n",
    "class DeConvLayer(nn.Module):\n",
    "    def __init__(self, in_channels: int, n_kernels: int):\n",
    "        super().__init__()\n",
    "\n",
    "        kernel_size = 5\n",
    "        padding = int((kernel_size - 1) / 2)\n",
    "\n",
    "        self.layer = nn.ConvTranspose2d(in_channels=in_channels,\n",
    "                               out_channels=n_kernels,\n",
    "                               kernel_size=kernel_size,\n",
    "                               stride=2,\n",
    "                               padding=padding,\n",
    "                               output_padding=1\n",
    "                               ) # upsample the input by factor of 2\n",
    "\n",
    "    def forward(self, x):\n",
    "        return self.layer(x)\n",
    "\n",
    "\n",
    "# ---\n",
    "\n",
    "\n",
    "class Encoder(nn.Module):\n",
    "    def __init__(self, n_downsamples: int, n_kernels: int):\n",
    "        super().__init__()\n",
    "\n",
    "        self.first_conv = ConvLayer(in_channels=1, n_kernels=n_kernels)\n",
    "\n",
    "        self.layers = nn.ModuleList()\n",
    "        for _ in range(n_downsamples - 1):\n",
    "            self.layers.append(ConvLayer(in_channels=n_kernels, n_kernels=n_kernels))\n",
    "\n",
    "    def forward(self, x):\n",
    "        x = self.first_conv(x)\n",
    "\n",
    "        for layer in self.layers:\n",
    "            x = layer(x)\n",
    "\n",
    "        return x\n",
    "\n",
    "\n",
    "class Decoder(nn.Module):\n",
    "    def __init__(self, n_upsamples: int, n_kernels: int):\n",
    "        super().__init__()\n",
    "\n",
    "        self.non_linearity = nn.ReLU()\n",
    "        self.final_non_linearity = nn.Sigmoid()\n",
    "\n",
    "        self.layers = nn.ModuleList()\n",
    "        for _ in range(n_upsamples - 1):\n",
    "            self.layers.append(DeConvLayer(in_channels=n_kernels, n_kernels=n_kernels))\n",
    "\n",
    "        self.final_de_conv = DeConvLayer(in_channels=n_kernels, n_kernels=1)\n",
    "\n",
    "\n",
    "    def forward(self, x: torch.Tensor):\n",
    "        for layer in self.layers:\n",
    "            x = layer(x)\n",
    "            x = self.non_linearity(x)\n",
    "\n",
    "        x = self.final_de_conv(x)\n",
    "        x = self.final_non_linearity(x)\n",
    "        return x\n",
    "\n",
    "\n",
    "# ---\n",
    "\n",
    "\n",
    "class ConvAutoencoder(L.LightningModule):\n",
    "    def __init__(self, n_downsamples: int, n_kernels: int):\n",
    "        super().__init__()\n",
    "        n_upsamples = n_downsamples\n",
    "\n",
    "        self.loss_fn = nn.MSELoss()\n",
    "\n",
    "        self.encoder = Encoder(n_downsamples, n_kernels)\n",
    "        self.decoder = Decoder(n_upsamples, n_kernels)\n",
    "\n",
    "    def forward(self, x):\n",
    "        x = self.encoder(x)\n",
    "        x = self.decoder(x)\n",
    "        return x\n",
    "\n",
    "    def _shared_step(self, batch, batch_idx):\n",
    "        x, _ = batch\n",
    "        y = x # because autoencoder\n",
    "        y = y.view(-1, 1, 28, 28)\n",
    "\n",
    "        output = self.forward(x)\n",
    "        output = output.view(-1, 1, 28, 28)\n",
    "        loss = self.loss_fn(output, y)\n",
    "        return loss\n",
    "\n",
    "    def training_step(self, batch, batch_idx):\n",
    "        loss = self._shared_step(batch, batch_idx)\n",
    "        self.log('train_loss', loss)\n",
    "        return loss\n",
    "\n",
    "    def validation_step(self, batch, batch_idx):\n",
    "        loss = self._shared_step(batch, batch_idx)\n",
    "        self.log('val_loss', loss)\n",
    "\n",
    "    def test_step(self, batch, batch_idx):\n",
    "        loss = self._shared_step(batch, batch_idx)\n",
    "        self.log('test_loss', loss)\n",
    "\n",
    "    def configure_optimizers(self):\n",
    "        return torch.optim.Adam(lr=0.001, params=self.parameters())\n"
   ]
  },
  {
   "cell_type": "code",
   "execution_count": 107,
   "metadata": {},
   "outputs": [
    {
     "data": {
      "text/plain": [
       "torch.Size([5, 1, 28, 28])"
      ]
     },
     "execution_count": 107,
     "metadata": {},
     "output_type": "execute_result"
    }
   ],
   "source": [
    "ex_input = torch.randn(5, 1, 28, 28)\n",
    "\n",
    "model = ConvAutoencoder(2, 1)\n",
    "\n",
    "output = model(ex_input)\n",
    "\n",
    "output.shape"
   ]
  },
  {
   "cell_type": "code",
   "execution_count": 111,
   "metadata": {},
   "outputs": [
    {
     "name": "stderr",
     "output_type": "stream",
     "text": [
      "GPU available: True (cuda), used: True\n",
      "TPU available: False, using: 0 TPU cores\n",
      "IPU available: False, using: 0 IPUs\n",
      "HPU available: False, using: 0 HPUs\n",
      "LOCAL_RANK: 0 - CUDA_VISIBLE_DEVICES: [0]\n",
      "\n",
      "  | Name    | Type    | Params\n",
      "------------------------------------\n",
      "0 | loss_fn | MSELoss | 0     \n",
      "1 | encoder | Encoder | 390   \n",
      "2 | decoder | Decoder | 376   \n",
      "------------------------------------\n",
      "766       Trainable params\n",
      "0         Non-trainable params\n",
      "766       Total params\n",
      "0.003     Total estimated model params size (MB)\n"
     ]
    },
    {
     "data": {
      "application/vnd.jupyter.widget-view+json": {
       "model_id": "b768dc605fdd4415ad333fe1a25ff1e1",
       "version_major": 2,
       "version_minor": 0
      },
      "text/plain": [
       "Sanity Checking: 0it [00:00, ?it/s]"
      ]
     },
     "metadata": {},
     "output_type": "display_data"
    },
    {
     "data": {
      "application/vnd.jupyter.widget-view+json": {
       "model_id": "f9444545276b43669edb8e5be6f3b130",
       "version_major": 2,
       "version_minor": 0
      },
      "text/plain": [
       "Training: 0it [00:00, ?it/s]"
      ]
     },
     "metadata": {},
     "output_type": "display_data"
    },
    {
     "data": {
      "application/vnd.jupyter.widget-view+json": {
       "model_id": "5896ece4bf88407187c573b67bd8467d",
       "version_major": 2,
       "version_minor": 0
      },
      "text/plain": [
       "Validation: 0it [00:00, ?it/s]"
      ]
     },
     "metadata": {},
     "output_type": "display_data"
    },
    {
     "data": {
      "application/vnd.jupyter.widget-view+json": {
       "model_id": "d358a65a69c44b07a92156ad64385282",
       "version_major": 2,
       "version_minor": 0
      },
      "text/plain": [
       "Validation: 0it [00:00, ?it/s]"
      ]
     },
     "metadata": {},
     "output_type": "display_data"
    },
    {
     "data": {
      "application/vnd.jupyter.widget-view+json": {
       "model_id": "27419ebcb6f34f3fa2d4227ca63337dd",
       "version_major": 2,
       "version_minor": 0
      },
      "text/plain": [
       "Validation: 0it [00:00, ?it/s]"
      ]
     },
     "metadata": {},
     "output_type": "display_data"
    },
    {
     "data": {
      "application/vnd.jupyter.widget-view+json": {
       "model_id": "3ce6a9a700d34dba8727c09948918d3b",
       "version_major": 2,
       "version_minor": 0
      },
      "text/plain": [
       "Validation: 0it [00:00, ?it/s]"
      ]
     },
     "metadata": {},
     "output_type": "display_data"
    },
    {
     "data": {
      "application/vnd.jupyter.widget-view+json": {
       "model_id": "52b1266da26d4917a37bf53940e5ff5f",
       "version_major": 2,
       "version_minor": 0
      },
      "text/plain": [
       "Validation: 0it [00:00, ?it/s]"
      ]
     },
     "metadata": {},
     "output_type": "display_data"
    },
    {
     "data": {
      "application/vnd.jupyter.widget-view+json": {
       "model_id": "b5293bd9552645e0ac51d08d37a44b9e",
       "version_major": 2,
       "version_minor": 0
      },
      "text/plain": [
       "Validation: 0it [00:00, ?it/s]"
      ]
     },
     "metadata": {},
     "output_type": "display_data"
    },
    {
     "data": {
      "application/vnd.jupyter.widget-view+json": {
       "model_id": "b1645a317e3d45858777bd59d6f49261",
       "version_major": 2,
       "version_minor": 0
      },
      "text/plain": [
       "Validation: 0it [00:00, ?it/s]"
      ]
     },
     "metadata": {},
     "output_type": "display_data"
    },
    {
     "data": {
      "application/vnd.jupyter.widget-view+json": {
       "model_id": "9bbab8a3eb2d443b99df7faedd148ad6",
       "version_major": 2,
       "version_minor": 0
      },
      "text/plain": [
       "Validation: 0it [00:00, ?it/s]"
      ]
     },
     "metadata": {},
     "output_type": "display_data"
    },
    {
     "data": {
      "application/vnd.jupyter.widget-view+json": {
       "model_id": "324ca3c080a04b59bb97f576b40c937e",
       "version_major": 2,
       "version_minor": 0
      },
      "text/plain": [
       "Validation: 0it [00:00, ?it/s]"
      ]
     },
     "metadata": {},
     "output_type": "display_data"
    },
    {
     "data": {
      "application/vnd.jupyter.widget-view+json": {
       "model_id": "923322e4e4d8441fb3de6d2294b7e870",
       "version_major": 2,
       "version_minor": 0
      },
      "text/plain": [
       "Validation: 0it [00:00, ?it/s]"
      ]
     },
     "metadata": {},
     "output_type": "display_data"
    },
    {
     "name": "stderr",
     "output_type": "stream",
     "text": [
      "`Trainer.fit` stopped: `max_epochs=10` reached.\n"
     ]
    }
   ],
   "source": [
    "log_save_dir = 'autoencoder_logs'\n",
    "\n",
    "\n",
    "n_downsamples = 1\n",
    "n_kernels = 15\n",
    "epochs = 10\n",
    "\n",
    "model = ConvAutoencoder(n_downsamples, n_kernels)\n",
    "\n",
    "trainer = L.Trainer(\n",
    "    logger=L.loggers.CSVLogger(save_dir=log_save_dir),\n",
    "    max_epochs=epochs\n",
    ")\n",
    "\n",
    "trainer.fit(\n",
    "    model, \n",
    "    train_loader, \n",
    "    valid_loader,\n",
    ")\n",
    "\n",
    "logs_df = get_latest_logs_as_df(log_save_dir)"
   ]
  },
  {
   "cell_type": "code",
   "execution_count": 112,
   "metadata": {},
   "outputs": [
    {
     "data": {
      "image/png": "[encoded data removed]",
      "text/plain": [
       "<Figure size 640x480 with 1 Axes>"
      ]
     },
     "metadata": {},
     "output_type": "display_data"
    },
    {
     "data": {
      "image/png": "[encoded data removed]",
      "text/plain": [
       "<Figure size 640x480 with 1 Axes>"
      ]
     },
     "metadata": {},
     "output_type": "display_data"
    },
    {
     "data": {
      "image/png": "[encoded data removed]",
      "text/plain": [
       "<PIL.Image.Image image mode=L size=112x112>"
      ]
     },
     "metadata": {},
     "output_type": "display_data"
    },
    {
     "data": {
      "image/png": "[encoded data removed]",
      "text/plain": [
       "<PIL.Image.Image image mode=L size=112x112>"
      ]
     },
     "metadata": {},
     "output_type": "display_data"
    }
   ],
   "source": [
    "# logs_df\n",
    "\n",
    "y_max = 0.5\n",
    "\n",
    "logs_df.train_loss.plot()\n",
    "plt.ylim(0, y_max)\n",
    "plt.show()\n",
    "(\n",
    "    logs_df\n",
    "    .query('val_loss.notna()', engine='python')\n",
    "    .val_loss\n",
    ").plot()\n",
    "plt.ylim(0, y_max)\n",
    "plt.show()\n",
    "\n",
    "\n",
    "# visual test\n",
    "\n",
    "test_ex = test[0][0]\n",
    "display_tensor_as_image(test_ex)\n",
    "display_tensor_as_image(model(test_ex))"
   ]
  },
  {
   "cell_type": "code",
   "execution_count": 80,
   "metadata": {},
   "outputs": [
    {
     "name": "stderr",
     "output_type": "stream",
     "text": [
      "LOCAL_RANK: 0 - CUDA_VISIBLE_DEVICES: [0]\n"
     ]
    },
    {
     "data": {
      "application/vnd.jupyter.widget-view+json": {
       "model_id": "67990ab763754a1295bef633b6d23822",
       "version_major": 2,
       "version_minor": 0
      },
      "text/plain": [
       "Testing: 0it [00:00, ?it/s]"
      ]
     },
     "metadata": {},
     "output_type": "display_data"
    },
    {
     "data": {
      "text/html": [
       "<pre style=\"white-space:pre;overflow-x:auto;line-height:normal;font-family:Menlo,'DejaVu Sans Mono',consolas,'Courier New',monospace\">┏━━━━━━━━━━━━━━━━━━━━━━━━━━━┳━━━━━━━━━━━━━━━━━━━━━━━━━━━┓\n",
       "┃<span style=\"font-weight: bold\">        Test metric        </span>┃<span style=\"font-weight: bold\">       DataLoader 0        </span>┃\n",
       "┡━━━━━━━━━━━━━━━━━━━━━━━━━━━╇━━━━━━━━━━━━━━━━━━━━━━━━━━━┩\n",
       "│<span style=\"color: #008080; text-decoration-color: #008080\">         test_loss         </span>│<span style=\"color: #800080; text-decoration-color: #800080\">   0.0007599703385494649   </span>│\n",
       "└───────────────────────────┴───────────────────────────┘\n",
       "</pre>\n"
      ],
      "text/plain": [
       "┏━━━━━━━━━━━━━━━━━━━━━━━━━━━┳━━━━━━━━━━━━━━━━━━━━━━━━━━━┓\n",
       "┃\u001b[1m \u001b[0m\u001b[1m       Test metric       \u001b[0m\u001b[1m \u001b[0m┃\u001b[1m \u001b[0m\u001b[1m      DataLoader 0       \u001b[0m\u001b[1m \u001b[0m┃\n",
       "┡━━━━━━━━━━━━━━━━━━━━━━━━━━━╇━━━━━━━━━━━━━━━━━━━━━━━━━━━┩\n",
       "│\u001b[36m \u001b[0m\u001b[36m        test_loss        \u001b[0m\u001b[36m \u001b[0m│\u001b[35m \u001b[0m\u001b[35m  0.0007599703385494649  \u001b[0m\u001b[35m \u001b[0m│\n",
       "└───────────────────────────┴───────────────────────────┘\n"
      ]
     },
     "metadata": {},
     "output_type": "display_data"
    },
    {
     "data": {
      "text/plain": [
       "[{'test_loss': 0.0007599703385494649}]"
      ]
     },
     "execution_count": 80,
     "metadata": {},
     "output_type": "execute_result"
    }
   ],
   "source": [
    "trainer.test(model, test_loader)"
   ]
  },
  {
   "cell_type": "markdown",
   "metadata": {},
   "source": [
    "## Visualization utils"
   ]
  },
  {
   "cell_type": "code",
   "execution_count": 7,
   "metadata": {},
   "outputs": [],
   "source": [
    "from pathlib import Path\n",
    "\n",
    "def get_latest_logs_as_df(log_save_dir) -> pd.DataFrame:\n",
    "    log_versions_dir = f'{log_save_dir}/lightning_logs'\n",
    "    latest_log_dir = os.listdir(log_versions_dir)[-1]\n",
    "    latest_csv = f'{log_versions_dir}/{latest_log_dir}/metrics.csv'\n",
    "\n",
    "    return pd.read_csv(latest_csv)\n",
    "\n",
    "\n",
    "def display_tensor_as_image(tensor):\n",
    "    to_img = transforms.ToPILImage()\n",
    "    tensor = tensor.view(28, 28)\n",
    "    img: Image.Image = to_img(tensor)\n",
    "    img = img.resize((28*4, 28*4))\n",
    "    display(img)\n"
   ]
  }
 ],
 "metadata": {
  "kernelspec": {
   "display_name": "base",
   "language": "python",
   "name": "python3"
  },
  "language_info": {
   "codemirror_mode": {
    "name": "ipython",
    "version": 3
   },
   "file_extension": ".py",
   "mimetype": "text/x-python",
   "name": "python",
   "nbconvert_exporter": "python",
   "pygments_lexer": "ipython3",
   "version": "3.10.14"
  }
 },
 "nbformat": 4,
 "nbformat_minor": 2
}
