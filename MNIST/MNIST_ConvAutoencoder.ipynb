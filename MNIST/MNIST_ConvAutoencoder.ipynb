{
 "cells": [
  {
   "cell_type": "code",
   "execution_count": 8,
   "metadata": {},
   "outputs": [],
   "source": [
    "# pytorch\n",
    "import torch\n",
    "from torch import tensor\n",
    "import torch.nn as nn\n",
    "from torch.utils.data import DataLoader, random_split\n",
    "from torchvision import datasets, transforms\n",
    "\n",
    "# lightning\n",
    "import pytorch_lightning as L\n",
    "\n",
    "# other\n",
    "import os\n",
    "import pandas as pd\n",
    "import matplotlib.pyplot as plt"
   ]
  },
  {
   "cell_type": "markdown",
   "metadata": {},
   "source": [
    "## Dataset"
   ]
  },
  {
   "cell_type": "code",
   "execution_count": 65,
   "metadata": {},
   "outputs": [
    {
     "data": {
      "text/plain": [
       "(45000, 6000, 9000)"
      ]
     },
     "execution_count": 65,
     "metadata": {},
     "output_type": "execute_result"
    }
   ],
   "source": [
    "transform = transforms.Compose([\n",
    "    transforms.ToTensor(),\n",
    "])\n",
    "\n",
    "mnist = datasets.MNIST(root='./data', train=True, transform=transform, download=True)\n",
    "\n",
    "train, valid, test = random_split(mnist, lengths=[.75, .1, .15])\n",
    "\n",
    "loader_n_workers = os.cpu_count()\n",
    "\n",
    "train_loader = DataLoader(train, batch_size=64, shuffle=True, num_workers=loader_n_workers)\n",
    "valid_loader = DataLoader(valid, batch_size=64, shuffle=False, num_workers=loader_n_workers)\n",
    "test_loader = DataLoader(test, batch_size=64, shuffle=False, num_workers=loader_n_workers)\n",
    "\n",
    "len(train), len(valid), len(test)"
   ]
  },
  {
   "cell_type": "markdown",
   "metadata": {},
   "source": [
    "## Model"
   ]
  },
  {
   "cell_type": "code",
   "execution_count": 77,
   "metadata": {},
   "outputs": [],
   "source": [
    "class ConvLayer(nn.Module):\n",
    "    def __init__(self, n_kernels):\n",
    "        super().__init__()\n",
    "\n",
    "        kernel_size = 5\n",
    "        padding = int((kernel_size - 1) / 2) # this is the formula to preserve size assuming a stride of 1\n",
    "\n",
    "        self.layer = nn.Sequential(\n",
    "            nn.Conv2d(in_channels=1,\n",
    "                      out_channels=n_kernels,\n",
    "                      kernel_size=kernel_size,\n",
    "                      stride=1,\n",
    "                      padding=padding),\n",
    "            nn.ReLU(),\n",
    "            nn.MaxPool2d(kernel_size=2, stride=2) # this downsamples the input by factor of 2\n",
    "        )\n",
    "\n",
    "    def forward(self, x):\n",
    "        return self.layer(x)\n",
    "\n",
    "\n",
    "class DeConvLayer(nn.Module):\n",
    "    def __init__(self, n_kernels):\n",
    "        super().__init__()\n",
    "\n",
    "        conv_layer_n_kernels = n_kernels\n",
    "\n",
    "        kernel_size = 5\n",
    "        padding = int((kernel_size - 1) / 2)\n",
    "\n",
    "        self.layer = nn.Sequential(\n",
    "            nn.ConvTranspose2d(in_channels=conv_layer_n_kernels,\n",
    "                               out_channels=n_kernels,\n",
    "                               kernel_size=kernel_size,\n",
    "                               stride=2,\n",
    "                               padding=padding,\n",
    "                               output_padding=1\n",
    "                               ),\n",
    "            nn.ReLU(),\n",
    "        )\n",
    "\n",
    "    def forward(self, x):\n",
    "        return self.layer(x)\n",
    "\n",
    "\n",
    "# ---\n",
    "\n",
    "\n",
    "class Encoder(nn.Module):\n",
    "    def __init__(self, n_downsamples: int, n_kernels: int):\n",
    "        super().__init__()\n",
    "\n",
    "        self.layers = nn.ModuleList()\n",
    "        for _ in range(n_downsamples):\n",
    "            self.layers.append(ConvLayer(n_kernels))\n",
    "\n",
    "    def forward(self, x):\n",
    "        for layer in self.layers:\n",
    "            x = layer(x)\n",
    "\n",
    "        return x\n",
    "\n",
    "\n",
    "class Decoder(nn.Module):\n",
    "    def __init__(self, n_upsamples: int, n_kernels: int):\n",
    "        super().__init__()\n",
    "\n",
    "        self.non_linearity = nn.ReLU()\n",
    "\n",
    "        self.layers = nn.ModuleList()\n",
    "        for _ in range(n_upsamples):\n",
    "            self.layers.append(DeConvLayer(n_kernels))\n",
    "\n",
    "        self.linear_input_dim = 28*28*n_kernels\n",
    "        self.linear = nn.Linear(self.linear_input_dim, 28*28)\n",
    "\n",
    "    def forward(self, x: torch.Tensor):\n",
    "        for layer in self.layers:\n",
    "            x = layer(x)\n",
    "\n",
    "        x = x.view(-1, self.linear_input_dim)\n",
    "        x = self.linear(x)\n",
    "        x = self.non_linearity(x)\n",
    "        return x\n",
    "\n",
    "\n",
    "# ---\n",
    "\n",
    "\n",
    "class ConvAutoencoder(L.LightningModule):\n",
    "    def __init__(self, n_downsamples: int, n_filters: int):\n",
    "        super().__init__()\n",
    "        n_upsamples = n_downsamples\n",
    "\n",
    "        self.loss_fn = nn.MSELoss()\n",
    "\n",
    "        self.encoder = Encoder(n_downsamples, n_filters)\n",
    "        self.decoder = Decoder(n_upsamples, n_filters)\n",
    "\n",
    "    def forward(self, x):\n",
    "        x = self.encoder(x)\n",
    "        x = self.decoder(x)\n",
    "        return x\n",
    "\n",
    "    def _shared_step(self, batch, batch_idx):\n",
    "        x, _ = batch\n",
    "        y = x # because autoencoder\n",
    "\n",
    "        output = self.forward(x)\n",
    "        output = output.view(-1, 1, 28, 28)\n",
    "        loss = self.loss_fn(output, y)\n",
    "        return loss\n",
    "\n",
    "    def training_step(self, batch, batch_idx):\n",
    "        loss = self._shared_step(batch, batch_idx)\n",
    "        self.log('train_loss', loss)\n",
    "        return loss\n",
    "\n",
    "    def validation_step(self, batch, batch_idx):\n",
    "        loss = self._shared_step(batch, batch_idx)\n",
    "        self.log('val_loss', loss)\n",
    "\n",
    "    def test_step(self, batch, batch_idx):\n",
    "        loss = self._shared_step(batch, batch_idx)\n",
    "        self.log('test_loss', loss)\n",
    "\n",
    "    def configure_optimizers(self):\n",
    "        return torch.optim.Adam(lr=0.001, params=self.parameters())\n"
   ]
  },
  {
   "cell_type": "code",
   "execution_count": 60,
   "metadata": {},
   "outputs": [
    {
     "data": {
      "text/plain": [
       "torch.Size([1, 784])"
      ]
     },
     "execution_count": 60,
     "metadata": {},
     "output_type": "execute_result"
    }
   ],
   "source": [
    "conv = ConvLayer(1)\n",
    "\n",
    "ex_input = torch.randn(1, 28, 28)\n",
    "output = conv(ex_input)\n",
    "\n",
    "encoder = Encoder(1, 5)\n",
    "output = encoder(ex_input)\n",
    "\n",
    "# ---\n",
    "\n",
    "deconv = DeConvLayer(1)\n",
    "output = deconv(ex_input)\n",
    "\n",
    "decoder = Decoder(1, 5)\n",
    "output = decoder(encoder(ex_input))\n",
    "\n",
    "# ---\n",
    "\n",
    "model = ConvAutoencoder(1, 5)\n",
    "output = model(ex_input)\n",
    "\n",
    "output.shape"
   ]
  },
  {
   "cell_type": "code",
   "execution_count": 80,
   "metadata": {},
   "outputs": [
    {
     "name": "stderr",
     "output_type": "stream",
     "text": [
      "GPU available: True (cuda), used: True\n",
      "TPU available: False, using: 0 TPU cores\n",
      "IPU available: False, using: 0 IPUs\n",
      "HPU available: False, using: 0 HPUs\n",
      "LOCAL_RANK: 0 - CUDA_VISIBLE_DEVICES: [0]\n",
      "\n",
      "  | Name    | Type    | Params\n",
      "------------------------------------\n",
      "0 | loss_fn | MSELoss | 0     \n",
      "1 | encoder | Encoder | 26    \n",
      "2 | decoder | Decoder | 615 K \n",
      "------------------------------------\n",
      "615 K     Trainable params\n",
      "0         Non-trainable params\n",
      "615 K     Total params\n",
      "2.462     Total estimated model params size (MB)\n"
     ]
    },
    {
     "data": {
      "application/vnd.jupyter.widget-view+json": {
       "model_id": "5f7ed08a57d84c209522807ac27f1a5b",
       "version_major": 2,
       "version_minor": 0
      },
      "text/plain": [
       "Sanity Checking: 0it [00:00, ?it/s]"
      ]
     },
     "metadata": {},
     "output_type": "display_data"
    },
    {
     "data": {
      "application/vnd.jupyter.widget-view+json": {
       "model_id": "b96d7f6ddac24a249c76b067a534a36e",
       "version_major": 2,
       "version_minor": 0
      },
      "text/plain": [
       "Training: 0it [00:00, ?it/s]"
      ]
     },
     "metadata": {},
     "output_type": "display_data"
    },
    {
     "data": {
      "application/vnd.jupyter.widget-view+json": {
       "model_id": "39708dbfdef54a6d9e4d9d24f5bba36c",
       "version_major": 2,
       "version_minor": 0
      },
      "text/plain": [
       "Validation: 0it [00:00, ?it/s]"
      ]
     },
     "metadata": {},
     "output_type": "display_data"
    },
    {
     "data": {
      "application/vnd.jupyter.widget-view+json": {
       "model_id": "80ea77c38f6a45f39398d5b7a641230d",
       "version_major": 2,
       "version_minor": 0
      },
      "text/plain": [
       "Validation: 0it [00:00, ?it/s]"
      ]
     },
     "metadata": {},
     "output_type": "display_data"
    },
    {
     "data": {
      "application/vnd.jupyter.widget-view+json": {
       "model_id": "8ee5c70c5c6c491b884177621eab3cf3",
       "version_major": 2,
       "version_minor": 0
      },
      "text/plain": [
       "Validation: 0it [00:00, ?it/s]"
      ]
     },
     "metadata": {},
     "output_type": "display_data"
    },
    {
     "data": {
      "application/vnd.jupyter.widget-view+json": {
       "model_id": "ba3a1e6672734847b6849b239473553c",
       "version_major": 2,
       "version_minor": 0
      },
      "text/plain": [
       "Validation: 0it [00:00, ?it/s]"
      ]
     },
     "metadata": {},
     "output_type": "display_data"
    },
    {
     "data": {
      "application/vnd.jupyter.widget-view+json": {
       "model_id": "342a357c3bb94247b18572d066307dbb",
       "version_major": 2,
       "version_minor": 0
      },
      "text/plain": [
       "Validation: 0it [00:00, ?it/s]"
      ]
     },
     "metadata": {},
     "output_type": "display_data"
    },
    {
     "data": {
      "application/vnd.jupyter.widget-view+json": {
       "model_id": "cb68e55093c84eb295f87b457f2daa22",
       "version_major": 2,
       "version_minor": 0
      },
      "text/plain": [
       "Validation: 0it [00:00, ?it/s]"
      ]
     },
     "metadata": {},
     "output_type": "display_data"
    },
    {
     "data": {
      "application/vnd.jupyter.widget-view+json": {
       "model_id": "4aeda7bc3c5d4232974654db5fdb90d7",
       "version_major": 2,
       "version_minor": 0
      },
      "text/plain": [
       "Validation: 0it [00:00, ?it/s]"
      ]
     },
     "metadata": {},
     "output_type": "display_data"
    },
    {
     "data": {
      "application/vnd.jupyter.widget-view+json": {
       "model_id": "89e0474abec84d22a68c7f3bd4626678",
       "version_major": 2,
       "version_minor": 0
      },
      "text/plain": [
       "Validation: 0it [00:00, ?it/s]"
      ]
     },
     "metadata": {},
     "output_type": "display_data"
    },
    {
     "data": {
      "application/vnd.jupyter.widget-view+json": {
       "model_id": "f75ae8bc071f4bc99aee17aba84243f7",
       "version_major": 2,
       "version_minor": 0
      },
      "text/plain": [
       "Validation: 0it [00:00, ?it/s]"
      ]
     },
     "metadata": {},
     "output_type": "display_data"
    },
    {
     "data": {
      "application/vnd.jupyter.widget-view+json": {
       "model_id": "90a841bd28bb4143a4dcb17e1212efd2",
       "version_major": 2,
       "version_minor": 0
      },
      "text/plain": [
       "Validation: 0it [00:00, ?it/s]"
      ]
     },
     "metadata": {},
     "output_type": "display_data"
    },
    {
     "name": "stderr",
     "output_type": "stream",
     "text": [
      "`Trainer.fit` stopped: `max_epochs=10` reached.\n"
     ]
    }
   ],
   "source": [
    "log_save_dir = 'autoencoder_logs'\n",
    "\n",
    "\n",
    "n_downsamples = 1\n",
    "n_kernels = 1\n",
    "epochs = 10\n",
    "\n",
    "model = ConvAutoencoder(n_downsamples, n_kernels)\n",
    "\n",
    "trainer = L.Trainer(\n",
    "    logger=L.loggers.CSVLogger(save_dir=log_save_dir),\n",
    "    max_epochs=epochs\n",
    ")\n",
    "\n",
    "trainer.fit(\n",
    "    model, \n",
    "    train_loader, \n",
    "    valid_loader,\n",
    ")\n",
    "\n",
    "logs_df = get_latest_logs_as_df(log_save_dir)"
   ]
  },
  {
   "cell_type": "code",
   "execution_count": 81,
   "metadata": {},
   "outputs": [
    {
     "data": {
      "image/png": "[encoded data removed]",
      "text/plain": [
       "<Figure size 640x480 with 1 Axes>"
      ]
     },
     "metadata": {},
     "output_type": "display_data"
    },
    {
     "data": {
      "image/png": "[encoded data removed]",
      "text/plain": [
       "<Figure size 640x480 with 1 Axes>"
      ]
     },
     "metadata": {},
     "output_type": "display_data"
    },
    {
     "data": {
      "image/png": "[encoded data removed]",
      "text/plain": [
       "<PIL.Image.Image image mode=L size=112x112>"
      ]
     },
     "metadata": {},
     "output_type": "display_data"
    },
    {
     "data": {
      "image/png": "[encoded data removed]",
      "text/plain": [
       "<PIL.Image.Image image mode=L size=112x112>"
      ]
     },
     "metadata": {},
     "output_type": "display_data"
    }
   ],
   "source": [
    "# logs_df\n",
    "\n",
    "y_max = 0.3\n",
    "\n",
    "logs_df.train_loss.plot()\n",
    "plt.ylim(0, y_max)\n",
    "plt.show()\n",
    "(\n",
    "    logs_df\n",
    "    .query('val_loss.notna()', engine='python')\n",
    "    .val_loss\n",
    ").plot()\n",
    "plt.ylim(0, y_max)\n",
    "plt.show()\n",
    "\n",
    "\n",
    "# visual test\n",
    "\n",
    "test_ex = test[0][0]\n",
    "display_tensor_as_image(test_ex)\n",
    "display_tensor_as_image(model(test_ex))"
   ]
  },
  {
   "cell_type": "code",
   "execution_count": 32,
   "metadata": {},
   "outputs": [
    {
     "data": {
      "text/plain": [
       "784"
      ]
     },
     "execution_count": 32,
     "metadata": {},
     "output_type": "execute_result"
    }
   ],
   "source": [
    "28*28"
   ]
  },
  {
   "cell_type": "markdown",
   "metadata": {},
   "source": [
    "## Visualization utils"
   ]
  },
  {
   "cell_type": "code",
   "execution_count": 12,
   "metadata": {},
   "outputs": [],
   "source": [
    "from pathlib import Path\n",
    "\n",
    "def get_latest_logs_as_df(log_save_dir) -> pd.DataFrame:\n",
    "    log_versions_dir = f'{log_save_dir}/lightning_logs'\n",
    "    latest_log_dir = os.listdir(log_versions_dir)[-1]\n",
    "    latest_csv = f'{log_versions_dir}/{latest_log_dir}/metrics.csv'\n",
    "\n",
    "    return pd.read_csv(latest_csv)\n",
    "\n",
    "\n",
    "def display_tensor_as_image(tensor):\n",
    "    to_img = transforms.ToPILImage()\n",
    "    tensor = tensor.view(28, 28)\n",
    "    img: Image.Image = to_img(tensor)\n",
    "    img = img.resize((28*4, 28*4))\n",
    "    display(img)\n"
   ]
  }
 ],
 "metadata": {
  "kernelspec": {
   "display_name": "base",
   "language": "python",
   "name": "python3"
  },
  "language_info": {
   "codemirror_mode": {
    "name": "ipython",
    "version": 3
   },
   "file_extension": ".py",
   "mimetype": "text/x-python",
   "name": "python",
   "nbconvert_exporter": "python",
   "pygments_lexer": "ipython3",
   "version": "3.10.14"
  }
 },
 "nbformat": 4,
 "nbformat_minor": 2
}
